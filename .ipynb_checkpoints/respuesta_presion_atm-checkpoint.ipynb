{
 "cells": [
  {
   "cell_type": "code",
   "execution_count": 49,
   "metadata": {
    "id": "5F0TnXUMcN6w"
   },
   "outputs": [],
   "source": [
    "import numpy as np\n",
    "import pandas as pd\n",
    "import matplotlib.pyplot as plt\n",
    "import seaborn as sns"
   ]
  },
  {
   "cell_type": "code",
   "execution_count": 1,
   "metadata": {
    "colab": {
     "base_uri": "https://localhost:8080/"
    },
    "id": "UoLB-a9kcO0i",
    "outputId": "3224a17b-3690-4e60-dc31-c881de2d9dd8"
   },
   "outputs": [
    {
     "name": "stdout",
     "output_type": "stream",
     "text": [
      "Mounted at /content/drive\n"
     ]
    }
   ],
   "source": [
    "from google.colab import drive\n",
    "drive.mount('/content/drive')"
   ]
  },
  {
   "cell_type": "code",
   "execution_count": 50,
   "metadata": {
    "colab": {
     "base_uri": "https://localhost:8080/",
     "height": 374
    },
    "id": "5-PLQjiQcl86",
    "outputId": "704f1fdd-6ba5-423f-bc9f-0c1c5a176af2"
   },
   "outputs": [
    {
     "data": {
      "text/html": [
       "<div>\n",
       "<style scoped>\n",
       "    .dataframe tbody tr th:only-of-type {\n",
       "        vertical-align: middle;\n",
       "    }\n",
       "\n",
       "    .dataframe tbody tr th {\n",
       "        vertical-align: top;\n",
       "    }\n",
       "\n",
       "    .dataframe thead th {\n",
       "        text-align: right;\n",
       "    }\n",
       "</style>\n",
       "<table border=\"1\" class=\"dataframe\">\n",
       "  <thead>\n",
       "    <tr style=\"text-align: right;\">\n",
       "      <th></th>\n",
       "      <th>Unnamed: 0</th>\n",
       "      <th>CodigoEstacion</th>\n",
       "      <th>CodigoSensor</th>\n",
       "      <th>FechaObservacion</th>\n",
       "      <th>ValorObservado</th>\n",
       "      <th>NombreEstacion</th>\n",
       "      <th>Departamento</th>\n",
       "      <th>Municipio</th>\n",
       "      <th>ZonaHidrografica</th>\n",
       "      <th>Latitud</th>\n",
       "      <th>Longitud</th>\n",
       "      <th>DescripcionSensor</th>\n",
       "      <th>UnidadMedida</th>\n",
       "      <th>Año</th>\n",
       "      <th>Mes</th>\n",
       "    </tr>\n",
       "  </thead>\n",
       "  <tbody>\n",
       "    <tr>\n",
       "      <th>0</th>\n",
       "      <td>14350546</td>\n",
       "      <td>48015040</td>\n",
       "      <td>255.0</td>\n",
       "      <td>2021-01-01 07:31:00</td>\n",
       "      <td>1001.0</td>\n",
       "      <td>PTO NARIÑO</td>\n",
       "      <td>AMAZONAS</td>\n",
       "      <td>PUERTO NARIÑO</td>\n",
       "      <td>AMAZONAS - DIRECTOS</td>\n",
       "      <td>-3.780000</td>\n",
       "      <td>-70.363000</td>\n",
       "      <td>Presión Atmosferica (1h)</td>\n",
       "      <td>HPa</td>\n",
       "      <td>2021</td>\n",
       "      <td>1</td>\n",
       "    </tr>\n",
       "    <tr>\n",
       "      <th>1</th>\n",
       "      <td>14350547</td>\n",
       "      <td>24010390</td>\n",
       "      <td>255.0</td>\n",
       "      <td>2021-01-01 19:00:00</td>\n",
       "      <td>726.0</td>\n",
       "      <td>El TRIANGULO - CAR</td>\n",
       "      <td>CUNDINAMARCA</td>\n",
       "      <td>LENGUAZAQUE</td>\n",
       "      <td>SOGAMOSO</td>\n",
       "      <td>5.305000</td>\n",
       "      <td>-73.619000</td>\n",
       "      <td>Presión Atmosferica (1h)</td>\n",
       "      <td>HPa</td>\n",
       "      <td>2021</td>\n",
       "      <td>1</td>\n",
       "    </tr>\n",
       "    <tr>\n",
       "      <th>2</th>\n",
       "      <td>14350548</td>\n",
       "      <td>24055080</td>\n",
       "      <td>255.0</td>\n",
       "      <td>2021-01-01 13:00:00</td>\n",
       "      <td>998.6</td>\n",
       "      <td>VIZCAINA LA LIZAMA  - AUT</td>\n",
       "      <td>SANTANDER</td>\n",
       "      <td>BARRANCABERMEJA</td>\n",
       "      <td>SOGAMOSO</td>\n",
       "      <td>6.982972</td>\n",
       "      <td>-73.704889</td>\n",
       "      <td>Presión Atmosferica (1h)</td>\n",
       "      <td>HPa</td>\n",
       "      <td>2021</td>\n",
       "      <td>1</td>\n",
       "    </tr>\n",
       "    <tr>\n",
       "      <th>3</th>\n",
       "      <td>14350549</td>\n",
       "      <td>24015506</td>\n",
       "      <td>255.0</td>\n",
       "      <td>2021-01-01 08:00:00</td>\n",
       "      <td>754.0</td>\n",
       "      <td>CAPELLANIA - CAR</td>\n",
       "      <td>CUNDINAMARCA</td>\n",
       "      <td>FÚQUENE</td>\n",
       "      <td>SOGAMOSO</td>\n",
       "      <td>5.449000</td>\n",
       "      <td>-73.769000</td>\n",
       "      <td>Presión Atmosferica (1h)</td>\n",
       "      <td>HPa</td>\n",
       "      <td>2021</td>\n",
       "      <td>1</td>\n",
       "    </tr>\n",
       "    <tr>\n",
       "      <th>4</th>\n",
       "      <td>14350550</td>\n",
       "      <td>48015040</td>\n",
       "      <td>255.0</td>\n",
       "      <td>2021-01-01 07:48:00</td>\n",
       "      <td>1000.9</td>\n",
       "      <td>PTO NARIÑO</td>\n",
       "      <td>AMAZONAS</td>\n",
       "      <td>PUERTO NARIÑO</td>\n",
       "      <td>AMAZONAS - DIRECTOS</td>\n",
       "      <td>-3.780000</td>\n",
       "      <td>-70.363000</td>\n",
       "      <td>Presión Atmosferica (1h)</td>\n",
       "      <td>HPa</td>\n",
       "      <td>2021</td>\n",
       "      <td>1</td>\n",
       "    </tr>\n",
       "  </tbody>\n",
       "</table>\n",
       "</div>"
      ],
      "text/plain": [
       "   Unnamed: 0  CodigoEstacion  CodigoSensor     FechaObservacion  \\\n",
       "0    14350546        48015040         255.0  2021-01-01 07:31:00   \n",
       "1    14350547        24010390         255.0  2021-01-01 19:00:00   \n",
       "2    14350548        24055080         255.0  2021-01-01 13:00:00   \n",
       "3    14350549        24015506         255.0  2021-01-01 08:00:00   \n",
       "4    14350550        48015040         255.0  2021-01-01 07:48:00   \n",
       "\n",
       "   ValorObservado             NombreEstacion  Departamento        Municipio  \\\n",
       "0          1001.0                 PTO NARIÑO      AMAZONAS    PUERTO NARIÑO   \n",
       "1           726.0         El TRIANGULO - CAR  CUNDINAMARCA      LENGUAZAQUE   \n",
       "2           998.6  VIZCAINA LA LIZAMA  - AUT     SANTANDER  BARRANCABERMEJA   \n",
       "3           754.0           CAPELLANIA - CAR  CUNDINAMARCA          FÚQUENE   \n",
       "4          1000.9                 PTO NARIÑO      AMAZONAS    PUERTO NARIÑO   \n",
       "\n",
       "      ZonaHidrografica   Latitud   Longitud         DescripcionSensor  \\\n",
       "0  AMAZONAS - DIRECTOS -3.780000 -70.363000  Presión Atmosferica (1h)   \n",
       "1             SOGAMOSO  5.305000 -73.619000  Presión Atmosferica (1h)   \n",
       "2             SOGAMOSO  6.982972 -73.704889  Presión Atmosferica (1h)   \n",
       "3             SOGAMOSO  5.449000 -73.769000  Presión Atmosferica (1h)   \n",
       "4  AMAZONAS - DIRECTOS -3.780000 -70.363000  Presión Atmosferica (1h)   \n",
       "\n",
       "  UnidadMedida   Año  Mes  \n",
       "0          HPa  2021    1  \n",
       "1          HPa  2021    1  \n",
       "2          HPa  2021    1  \n",
       "3          HPa  2021    1  \n",
       "4          HPa  2021    1  "
      ]
     },
     "execution_count": 50,
     "metadata": {},
     "output_type": "execute_result"
    }
   ],
   "source": [
    "# df_presion = pd.read_csv('/content/drive/MyDrive/ atmospheric_project/Presion_atm_update_2021.csv')\n",
    "df_presion = pd.read_csv('Presion_atm_update_2021.csv')\n",
    "pd.set_option('display.max_colwidth', None)\n",
    "pd.set_option('display.max_rows', None)\n",
    "df_presion.head()"
   ]
  },
  {
   "cell_type": "code",
   "execution_count": 29,
   "metadata": {
    "colab": {
     "base_uri": "https://localhost:8080/"
    },
    "id": "zJZ5MyodfCtp",
    "outputId": "e29d0b43-7517-4cc9-eb31-93a5a0a63500"
   },
   "outputs": [
    {
     "data": {
      "text/plain": [
       "Index(['Unnamed: 0', 'CodigoEstacion', 'CodigoSensor', 'FechaObservacion',\n",
       "       'ValorObservado', 'NombreEstacion', 'Departamento', 'Municipio',\n",
       "       'ZonaHidrografica', 'Latitud', 'Longitud', 'DescripcionSensor',\n",
       "       'UnidadMedida', 'Año', 'Mes'],\n",
       "      dtype='object')"
      ]
     },
     "execution_count": 29,
     "metadata": {},
     "output_type": "execute_result"
    }
   ],
   "source": [
    "df_presion.columns"
   ]
  },
  {
   "cell_type": "markdown",
   "metadata": {
    "id": "MEf9wnQGigzt"
   },
   "source": [
    "## 1 ¿Cuál es la ciudad con la presión atmosférica más alta y cuál es la ciudad con la presión atmosférica más baja?"
   ]
  },
  {
   "cell_type": "code",
   "execution_count": 30,
   "metadata": {
    "id": "G33InJ9af27f"
   },
   "outputs": [],
   "source": [
    "# Hacemos la filtracion de las columnas que vamos a utlizar \n",
    "df_presion = df_presion[['ValorObservado', 'NombreEstacion', 'Municipio']]\n",
    "\n",
    "# Despues agrupamos con el campo que nos interesa y le sacamos el mean()\n",
    "df_promedio_presion = df_presion.groupby(['Municipio']).mean()"
   ]
  },
  {
   "cell_type": "code",
   "execution_count": 31,
   "metadata": {
    "colab": {
     "base_uri": "https://localhost:8080/",
     "height": 112
    },
    "id": "ZiyWoxWvh1CX",
    "outputId": "a9ec4aa0-56ee-4f6b-c720-356c2769e319"
   },
   "outputs": [
    {
     "data": {
      "text/html": [
       "<div>\n",
       "<style scoped>\n",
       "    .dataframe tbody tr th:only-of-type {\n",
       "        vertical-align: middle;\n",
       "    }\n",
       "\n",
       "    .dataframe tbody tr th {\n",
       "        vertical-align: top;\n",
       "    }\n",
       "\n",
       "    .dataframe thead th {\n",
       "        text-align: right;\n",
       "    }\n",
       "</style>\n",
       "<table border=\"1\" class=\"dataframe\">\n",
       "  <thead>\n",
       "    <tr style=\"text-align: right;\">\n",
       "      <th></th>\n",
       "      <th>ValorObservado</th>\n",
       "    </tr>\n",
       "    <tr>\n",
       "      <th>Municipio</th>\n",
       "      <th></th>\n",
       "    </tr>\n",
       "  </thead>\n",
       "  <tbody>\n",
       "    <tr>\n",
       "      <th>BAHÍA SOLANO (MUTIS)</th>\n",
       "      <td>1011.751923</td>\n",
       "    </tr>\n",
       "  </tbody>\n",
       "</table>\n",
       "</div>"
      ],
      "text/plain": [
       "                      ValorObservado\n",
       "Municipio                           \n",
       "BAHÍA SOLANO (MUTIS)     1011.751923"
      ]
     },
     "execution_count": 31,
     "metadata": {},
     "output_type": "execute_result"
    }
   ],
   "source": [
    "# Buscamos el municipio con mayor presion y lo ordenamos.\n",
    "municipios_mas_presion = df_promedio_presion.sort_values(by='ValorObservado', ascending=False).head(1)\n",
    "municipios_mas_presion"
   ]
  },
  {
   "cell_type": "code",
   "execution_count": 32,
   "metadata": {
    "colab": {
     "base_uri": "https://localhost:8080/",
     "height": 112
    },
    "id": "jC8HenNYh5NO",
    "outputId": "99dd558f-4dfd-4505-b200-909cbf3d9f2f"
   },
   "outputs": [
    {
     "data": {
      "text/html": [
       "<div>\n",
       "<style scoped>\n",
       "    .dataframe tbody tr th:only-of-type {\n",
       "        vertical-align: middle;\n",
       "    }\n",
       "\n",
       "    .dataframe tbody tr th {\n",
       "        vertical-align: top;\n",
       "    }\n",
       "\n",
       "    .dataframe thead th {\n",
       "        text-align: right;\n",
       "    }\n",
       "</style>\n",
       "<table border=\"1\" class=\"dataframe\">\n",
       "  <thead>\n",
       "    <tr style=\"text-align: right;\">\n",
       "      <th></th>\n",
       "      <th>ValorObservado</th>\n",
       "    </tr>\n",
       "    <tr>\n",
       "      <th>Municipio</th>\n",
       "      <th></th>\n",
       "    </tr>\n",
       "  </thead>\n",
       "  <tbody>\n",
       "    <tr>\n",
       "      <th>GUICÁN</th>\n",
       "      <td>573.880903</td>\n",
       "    </tr>\n",
       "  </tbody>\n",
       "</table>\n",
       "</div>"
      ],
      "text/plain": [
       "           ValorObservado\n",
       "Municipio                \n",
       "GUICÁN         573.880903"
      ]
     },
     "execution_count": 32,
     "metadata": {},
     "output_type": "execute_result"
    }
   ],
   "source": [
    "# Menor presion\n",
    "municipios_menos_presion = df_promedio_presion.sort_values(by='ValorObservado', ascending=True).head(1)\n",
    "municipios_menos_presion"
   ]
  },
  {
   "cell_type": "code",
   "execution_count": 46,
   "metadata": {},
   "outputs": [
    {
     "data": {
      "image/png": "[encoded data removed]",
      "text/plain": [
       "<Figure size 720x432 with 1 Axes>"
      ]
     },
     "metadata": {},
     "output_type": "display_data"
    }
   ],
   "source": [
    "# Establecer el estilo de los gráficos\n",
    "sns.set_style(\"whitegrid\")\n",
    "\n",
    "# Crear una figura y ejes\n",
    "fig, ax = plt.subplots(figsize=(10, 6))\n",
    "\n",
    "# Crear un gráfico de barras para los municipios con mayor presión\n",
    "ax.bar(x=municipios_mas_presion.index, height=municipios_mas_presion[\"ValorObservado\"], color=\"darkmagenta\", label=\"Municipio con mayor presión\")\n",
    "\n",
    "# Crear un gráfico de barras para los municipios con menor presión\n",
    "ax.bar(x=municipios_menos_presion.index, height=municipios_menos_presion[\"ValorObservado\"], color=\"yellow\", label=\"Municipio con menor presión\")\n",
    "\n",
    "# Añadir etiquetas y título al gráfico\n",
    "ax.set_xlabel(\"Municipio\")\n",
    "ax.set_ylabel(\"Presión atmosférica (HPa)\")\n",
    "ax.set_title(\"Municipios con mayor y menor presión atmosférica\")\n",
    "ax.legend()\n",
    "\n",
    "# Mostrar el gráfico\n",
    "plt.show()"
   ]
  },
  {
   "cell_type": "markdown",
   "metadata": {
    "id": "KxNVnKDBivvN"
   },
   "source": [
    "## 2 ¿Cuántas estaciones hay en el dataset y cuáles son sus nombres?"
   ]
  },
  {
   "cell_type": "code",
   "execution_count": 42,
   "metadata": {},
   "outputs": [
    {
     "name": "stdout",
     "output_type": "stream",
     "text": [
      "El numero de estaciones que hay son 174\n"
     ]
    }
   ],
   "source": [
    "# nunique(), devuelve el número de valores únicos en una columna\n",
    "num_estaciones = df_presion['NombreEstacion'].nunique()\n",
    "print(f'El numero de estaciones que hay son {num_estaciones}')"
   ]
  },
  {
   "cell_type": "code",
   "execution_count": 35,
   "metadata": {},
   "outputs": [
    {
     "data": {
      "text/plain": [
       "array(['PTO NARIÑO', 'El TRIANGULO - CAR', 'VIZCAINA LA LIZAMA  - AUT',\n",
       "       'CAPELLANIA - CAR', 'SINCERIN  - AUT', 'RAQUIRA - CAR',\n",
       "       'APTO OLAYA HERRERA - TX GPRS', 'CACHIPAY - CAR', 'AYAPEL',\n",
       "       'PR CHOCO: APTO EL CARANO', 'BERLIN - AUT',\n",
       "       'CHARALA - ISAGEN - Estacion en Pruebas', 'PARAMO GUERRERO  - AUT',\n",
       "       'CARIMAGUA', 'AEROPUERTO LAS FLORES  - AUT',\n",
       "       'APTO EL DORADO - TX GPRS', 'PERENCO: TAMARA',\n",
       "       'ESCUELA NAVAL BARRANQUILLA  - AUT',\n",
       "       'APTO ERNESTO CORTIZOS TX GPRS', 'VIANI - CAR', 'NEOMUNDO - AUT',\n",
       "       'CARDON EL', 'PR CHOCO: CERTEGUI', 'EL HATO - CAR', 'EL TUNEL',\n",
       "       'PARAMO ALMORZADERO  - AUT', 'PUERTA ROJA - AUT',\n",
       "       'APTO SESQUICENTENARIO TX GPRS', 'PERENCO: TOQUILLA',\n",
       "       'APTO MATECAÑA TX GPS/GOES', 'APTO ALMIRANTE PADILLA TX GPRS',\n",
       "       'EL GUAMO - AUT', 'SAN MARCOS - AUT', 'AEROPUERTO SAN LUIS - AUT',\n",
       "       'SAN  VICENTE DE CHUCURI  - AUT', 'PR CHOCO: BELLAVISTA',\n",
       "       'GUAMAL - CAR', 'SAN BENITO ABAD - LA MOJANA TX GPRS/GOES',\n",
       "       'LA MINA CERREJON  - AUT', 'APTO ALFONSO LOPEZ', 'PERENCO: PISBA',\n",
       "       'APTO CAMILO DAZA', 'LAGUNA DE LA PLAZA', 'AGUAS CLARAS - CAR',\n",
       "       'CAPARRAPI - CAR', 'APTO J.M CORDOVA TX GPRS',\n",
       "       'AEROPUERTO VASQUEZ COBO', 'EL DIAMANTE - AUT',\n",
       "       'APTO ALFONSO BONILLA ARAGON - TX GPRS', 'APTO PALONEGRO',\n",
       "       'GRANJA MIRA', 'AEROPUERTO RAFAEL NUNEZ', 'TUNGUAVITA - AUT',\n",
       "       'APTO LOS GARZONES', 'PR CHOCO: PANAMERICANA', 'MEDIA LUNA - AUT',\n",
       "       'PTAR TOCANCIPA - CAR', 'EL DELIRIO- CAR',\n",
       "       'PR CHOCO: SAN JOSE PALMAR', 'APTO YOPAL', 'EL DIFICIL - AUT',\n",
       "       'AEROPUERTO A LLERAS C', 'AGUACHICA - AUT', 'VIVERO SURATA  - AUT',\n",
       "       'SARAVENA  - AUT', 'MEDINA - AUT', 'LEJANÍAS - AUT',\n",
       "       'DEMOSTRACION GRANJA  - AUT', 'MALAGA 2',\n",
       "       'UNIVERSIDAD DE LA SABANA - AUT', 'MERCEDES - AUT',\n",
       "       'AEROPUERTO FURATENA  - AUT', 'VETAS - AUT',\n",
       "       'UNIVERSIDAD UNAD CARTAGENA - AUT', 'GALERAZAMBA  - AUT',\n",
       "       'PIEDECUESTA GRANJA', 'ITUANGO - AUT', 'SABANA DE TORRES',\n",
       "       'VILLA DE LEIVA  - AUT', 'EL PARAMO - AUT', 'PLANETA RICA  - AUT',\n",
       "       'PLANADAS - AUT', 'TUNJA-U.P.T.C - AUT', 'ITA VALSALICE  - AUT',\n",
       "       'SIACHOQUE - AUT', 'VILLA INES  - AUT', 'IBAGUE - AUT', 'ACAPULCO',\n",
       "       'YACOPI  - AUT', 'JARDIN BOTANICO  - AUT', 'SOTAQUIRÁ - AUT',\n",
       "       'SUSA - AUT', 'GUADUALITO - AUT', 'ALGECIRAS - AUT',\n",
       "       'SAHAGUN - AUT', 'MAGUARE - AUT', 'PARAMO ALTO - AUT',\n",
       "       'UNIVERSIDAD DEL PACIFICO - AUT', 'ARAUCA TERMINAL - AUT',\n",
       "       'CAMPO HERMOSO - AUT', 'POTREROS - AUT', 'GUAICARAMO  - AUT',\n",
       "       'CANELOS  - AUT', 'NATAGA  - AUT', 'LAS BRISAS - AUT',\n",
       "       'POLIDEPORTIVO CACHIRA - AUT', 'ALTO DEL TRIGO - AUT',\n",
       "       'PARQUE ARQUEOLOGICO - AUT', 'ARBOLEDAS - AUT', 'BRASIL - AUT',\n",
       "       'EL CALVARIO - AUT', 'FLORIDABLANCA - AUT', 'CACHIRI  - AUT',\n",
       "       'VISTA HERMOSA - AUT', 'ALTAQUER - AUT', 'CORRALITOS PULI',\n",
       "       'SANTA HELENA  - AUT', 'HACIENDA LA MESA  - AUT',\n",
       "       'UNIVERSIDAD SANTO TOMÁS  - AUT', 'CUCUNUBA - AUT', 'TABIO  - AUT',\n",
       "       'ACOMODO EL', 'EL SOCHE  - AUT', 'EL DESTINO  - AUT',\n",
       "       'LA ESMERALDA-  - AUT', 'EL OKAL  - AUT', 'IBERIA LA', 'MAJAGUAL',\n",
       "       'BELLAVISTA - JESUS MARIA - AUT', 'EL VINCULO - AUT',\n",
       "       'LA RAMADA  - AUT', 'UNIVERSIDAD DE CUNDINAMARCA - AUT',\n",
       "       'PARQUE SOPO  - AUT', 'UNIVERSIDAD NACIONAL  - AUT',\n",
       "       'PARAMO RABANAL - AUT', 'RETIRO - AUT', 'MACHETA - CHIVOR',\n",
       "       'SANTA EMILIA - AUT', 'MERENGO  - AUT',\n",
       "       'EL JARDIN CUENCA ALTA RIO RISARALDA - AUT', 'IDEAM BOGOTA  - AUT',\n",
       "       'PIJAO - AUT', 'PAQUILO - AUT', 'NEVADO DEL COCUY - AUT',\n",
       "       'SALENTO - AUT', 'LA CUMBRE - AUT', 'SOGAMOSO - AUT',\n",
       "       'ZARAGOZA - AUT', 'PASCA - AUT', 'VALLE ALTO  - AUT',\n",
       "       'EL ESPINO - AUT', 'CHINAVITA - AUT', 'SANTUARIO - AUT',\n",
       "       'BASE AEREA MELGAR - AUT', 'AQUITANIA - AUT', 'TIBAITATA - AUT',\n",
       "       'TONA  - AUT', 'LA COSECHA - AUT', 'PUEBLO RICO  - AUT',\n",
       "       'TEATINOS - AUT', 'CHITA  - AUT', 'DUITAMA - AUT', 'PESCA - AUT',\n",
       "       'PANELAS - AUT', 'CORINTO - AUT', 'EL SILENCIO - AUT',\n",
       "       'GRANJA GUAYATA - AUT', 'MONGUA - AUT', 'LA SIERRA - AUT',\n",
       "       'GUACHACA - AUT', 'SANTA LUCIA - AUT', 'GRANADA SENA - AUT',\n",
       "       'OJO DE AGUA  - AUT', 'PEDRO PALO  - AUT'], dtype=object)"
      ]
     },
     "execution_count": 35,
     "metadata": {},
     "output_type": "execute_result"
    }
   ],
   "source": [
    "# Para ver los nombres de las estaciones que hay\n",
    "df_presion['NombreEstacion'].unique()"
   ]
  },
  {
   "cell_type": "markdown",
   "metadata": {},
   "source": [
    "## 3. ¿Cuántos sensores hay por estación?\n"
   ]
  },
  {
   "cell_type": "code",
   "execution_count": 45,
   "metadata": {},
   "outputs": [
    {
     "data": {
      "text/plain": [
       "PTO NARIÑO                                   41544\n",
       "SANTA HELENA  - AUT                           3094\n",
       "CORRALITOS PULI                               2502\n",
       "LA ESMERALDA-  - AUT                          2125\n",
       "EL OKAL  - AUT                                2121\n",
       "TABIO  - AUT                                  1887\n",
       "EL SOCHE  - AUT                               1885\n",
       "HACIENDA LA MESA  - AUT                       1779\n",
       "ACOMODO EL                                    1768\n",
       "UNIVERSIDAD SANTO TOMÁS  - AUT                1760\n",
       "PARQUE SOPO  - AUT                            1726\n",
       "LA RAMADA  - AUT                              1716\n",
       "IBERIA LA                                     1692\n",
       "EL DESTINO  - AUT                             1354\n",
       "ESCUELA NAVAL BARRANQUILLA  - AUT              746\n",
       "NEOMUNDO - AUT                                 746\n",
       "PARAMO ALMORZADERO  - AUT                      745\n",
       "LA MINA CERREJON  - AUT                        745\n",
       "EL GUAMO - AUT                                 744\n",
       "PARAMO GUERRERO  - AUT                         742\n",
       "BERLIN - AUT                                   738\n",
       "PR CHOCO: APTO EL CARANO                       730\n",
       "LAGUNA DE LA PLAZA                             729\n",
       "PERENCO: TOQUILLA                              729\n",
       "PR CHOCO: PANAMERICANA                         728\n",
       "EL TUNEL                                       727\n",
       "PERENCO: PISBA                                 726\n",
       "PR CHOCO: CERTEGUI                             725\n",
       "AEROPUERTO LAS FLORES  - AUT                   722\n",
       "PUERTA ROJA - AUT                              719\n",
       "CHARALA - ISAGEN - Estacion en Pruebas         717\n",
       "PR CHOCO: SAN JOSE PALMAR                      713\n",
       "CAPELLANIA - CAR                               712\n",
       "RAQUIRA - CAR                                  712\n",
       "EL HATO - CAR                                  711\n",
       "El TRIANGULO - CAR                             711\n",
       "VIANI - CAR                                    708\n",
       "AGUAS CLARAS - CAR                             708\n",
       "SAN BENITO ABAD - LA MOJANA TX GPRS/GOES       707\n",
       "AYAPEL                                         707\n",
       "CAPARRAPI - CAR                                707\n",
       "EL DELIRIO- CAR                                707\n",
       "PTAR TOCANCIPA - CAR                           707\n",
       "CACHIPAY - CAR                                 706\n",
       "GUAMAL - CAR                                   706\n",
       "PERENCO: TAMARA                                689\n",
       "EL DIAMANTE - AUT                              685\n",
       "EL DIFICIL - AUT                               674\n",
       "SARAVENA  - AUT                                664\n",
       "MERCEDES - AUT                                 664\n",
       "MALAGA 2                                       664\n",
       "ALGECIRAS - AUT                                664\n",
       "AEROPUERTO FURATENA  - AUT                     664\n",
       "UNIVERSIDAD UNAD CARTAGENA - AUT               664\n",
       "PIEDECUESTA GRANJA                             664\n",
       "SABANA DE TORRES                               664\n",
       "VILLA DE LEIVA  - AUT                          664\n",
       "ITA VALSALICE  - AUT                           664\n",
       "JARDIN BOTANICO  - AUT                         664\n",
       "VIVERO SURATA  - AUT                           664\n",
       "ACAPULCO                                       664\n",
       "PLANETA RICA  - AUT                            663\n",
       "DEMOSTRACION GRANJA  - AUT                     662\n",
       "TUNJA-U.P.T.C - AUT                            648\n",
       "ARBOLEDAS - AUT                                648\n",
       "CAMPO HERMOSO - AUT                            648\n",
       "GUADUALITO - AUT                               648\n",
       "VETAS - AUT                                    648\n",
       "MAGUARE - AUT                                  646\n",
       "FLORIDABLANCA - AUT                            646\n",
       "YACOPI  - AUT                                  646\n",
       "SIACHOQUE - AUT                                646\n",
       "EL PARAMO - AUT                                646\n",
       "ARAUCA TERMINAL - AUT                          646\n",
       "CANELOS  - AUT                                 646\n",
       "LAS BRISAS - AUT                               646\n",
       "POLIDEPORTIVO CACHIRA - AUT                    646\n",
       "ALTO DEL TRIGO - AUT                           646\n",
       "UNIVERSIDAD DEL PACIFICO - AUT                 646\n",
       "PARQUE ARQUEOLOGICO - AUT                      646\n",
       "NATAGA  - AUT                                  645\n",
       "POTREROS - AUT                                 645\n",
       "UNIVERSIDAD DE LA SABANA - AUT                 645\n",
       "PARAMO ALTO - AUT                              645\n",
       "PLANADAS - AUT                                 645\n",
       "SAHAGUN - AUT                                  642\n",
       "VISTA HERMOSA - AUT                            640\n",
       "MACHETA - CHIVOR                               634\n",
       "EL CALVARIO - AUT                              633\n",
       "MERENGO  - AUT                                 607\n",
       "APTO ALFONSO LOPEZ                             605\n",
       "APTO CAMILO DAZA                               604\n",
       "AEROPUERTO VASQUEZ COBO                        602\n",
       "APTO OLAYA HERRERA - TX GPRS                   600\n",
       "CACHIRI  - AUT                                 599\n",
       "APTO ALMIRANTE PADILLA TX GPRS                 593\n",
       "APTO ALFONSO BONILLA ARAGON - TX GPRS          592\n",
       "VILLA INES  - AUT                              592\n",
       "APTO J.M CORDOVA TX GPRS                       588\n",
       "APTO MATECAÑA TX GPS/GOES                      581\n",
       "BRASIL - AUT                                   573\n",
       "SUSA - AUT                                     573\n",
       "CARDON EL                                      572\n",
       "APTO LOS GARZONES                              569\n",
       "SOTAQUIRÁ - AUT                                561\n",
       "APTO EL DORADO - TX GPRS                       557\n",
       "APTO PALONEGRO                                 553\n",
       "AEROPUERTO RAFAEL NUNEZ                        550\n",
       "AEROPUERTO A LLERAS C                          530\n",
       "IBAGUE - AUT                                   525\n",
       "CUCUNUBA - AUT                                 483\n",
       "SAN MARCOS - AUT                               458\n",
       "AEROPUERTO SAN LUIS - AUT                      394\n",
       "APTO SESQUICENTENARIO TX GPRS                  388\n",
       "GRANJA MIRA                                    325\n",
       "SINCERIN  - AUT                                305\n",
       "APTO YOPAL                                     298\n",
       "NEVADO DEL COCUY - AUT                         288\n",
       "SALENTO - AUT                                  288\n",
       "RETIRO - AUT                                   288\n",
       "IDEAM BOGOTA  - AUT                            288\n",
       "UNIVERSIDAD NACIONAL  - AUT                    288\n",
       "PIJAO - AUT                                    288\n",
       "UNIVERSIDAD DE CUNDINAMARCA - AUT              288\n",
       "EL VINCULO - AUT                               288\n",
       "BELLAVISTA - JESUS MARIA - AUT                 288\n",
       "EL JARDIN CUENCA ALTA RIO RISARALDA - AUT      288\n",
       "LA CUMBRE - AUT                                288\n",
       "VALLE ALTO  - AUT                              288\n",
       "EL ESPINO - AUT                                288\n",
       "SANTUARIO - AUT                                288\n",
       "BASE AEREA MELGAR - AUT                        288\n",
       "TIBAITATA - AUT                                288\n",
       "PAQUILO - AUT                                  287\n",
       "SOGAMOSO - AUT                                 286\n",
       "PASCA - AUT                                    283\n",
       "CHINAVITA - AUT                                283\n",
       "PARAMO RABANAL - AUT                           282\n",
       "ZARAGOZA - AUT                                 281\n",
       "AQUITANIA - AUT                                281\n",
       "PANELAS - AUT                                  264\n",
       "CHITA  - AUT                                   264\n",
       "TEATINOS - AUT                                 264\n",
       "PESCA - AUT                                    264\n",
       "DUITAMA - AUT                                  264\n",
       "TONA  - AUT                                    264\n",
       "PUEBLO RICO  - AUT                             262\n",
       "LA COSECHA - AUT                               262\n",
       "OJO DE AGUA  - AUT                             255\n",
       "SAN  VICENTE DE CHUCURI  - AUT                 252\n",
       "TUNGUAVITA - AUT                               248\n",
       "CORINTO - AUT                                  240\n",
       "EL SILENCIO - AUT                              240\n",
       "GRANJA GUAYATA - AUT                           240\n",
       "MONGUA - AUT                                   240\n",
       "LA SIERRA - AUT                                240\n",
       "MEDINA - AUT                                   236\n",
       "PEDRO PALO  - AUT                              231\n",
       "MAJAGUAL                                       223\n",
       "GUACHACA - AUT                                 192\n",
       "CARIMAGUA                                      184\n",
       "VIZCAINA LA LIZAMA  - AUT                      165\n",
       "SANTA EMILIA - AUT                             162\n",
       "ALTAQUER - AUT                                 162\n",
       "SANTA LUCIA - AUT                              161\n",
       "MEDIA LUNA - AUT                               156\n",
       "AGUACHICA - AUT                                135\n",
       "GUAICARAMO  - AUT                              116\n",
       "LEJANÍAS - AUT                                  96\n",
       "PR CHOCO: BELLAVISTA                            93\n",
       "GALERAZAMBA  - AUT                              62\n",
       "ITUANGO - AUT                                   46\n",
       "APTO ERNESTO CORTIZOS TX GPRS                   34\n",
       "GRANADA SENA - AUT                               1\n",
       "Name: NombreEstacion, dtype: int64"
      ]
     },
     "execution_count": 45,
     "metadata": {},
     "output_type": "execute_result"
    }
   ],
   "source": [
    "df_presion['NombreEstacion'].value_counts()"
   ]
  },
  {
   "cell_type": "markdown",
   "metadata": {},
   "source": [
    "## 4. ¿Cuál es la presión atmosférica promedio por departamento? ¿Y por municipio?\n"
   ]
  },
  {
   "cell_type": "code",
   "execution_count": 54,
   "metadata": {},
   "outputs": [],
   "source": [
    "# Calcular la presión atmosférica promedio por departamento\n",
    "presion_por_departamento = df_presion.groupby('Departamento')['ValorObservado'].mean()"
   ]
  },
  {
   "cell_type": "code",
   "execution_count": 52,
   "metadata": {},
   "outputs": [],
   "source": [
    "# Calcular la presión atmosférica promedio por municipio\n",
    "presion_por_municipio = df_presion.groupby(['Departamento', 'Municipio'])['ValorObservado'].mean()"
   ]
  },
  {
   "cell_type": "code",
   "execution_count": 57,
   "metadata": {},
   "outputs": [
    {
     "name": "stdout",
     "output_type": "stream",
     "text": [
      "La presión atmoférica promedio por departamento es: Departamento\n",
      "AMAZONAS                   996.892486\n",
      "ANTIOQUIA                  804.097238\n",
      "ARAUCA                     853.587690\n",
      "ATLÁNTICO                 1010.137308\n",
      "BOGOTA D.C.                717.361040\n",
      "BOLIVAR                    892.134690\n",
      "BOYACÁ                     746.760796\n",
      "CALDAS                     719.551080\n",
      "CAQUETA                    978.817802\n",
      "CASANARE                   941.273664\n",
      "CAUCA                      897.335417\n",
      "CESAR                      986.497703\n",
      "CHOCÓ                      980.002074\n",
      "CUNDINAMARCA               774.065832\n",
      "CÓRDOBA                   1003.652693\n",
      "HUILA                      858.088031\n",
      "LA GUAJIRA                1003.236024\n",
      "MAGDALENA                  998.682856\n",
      "META                       909.854545\n",
      "NARIÑO                     759.923496\n",
      "NORTE DE SANTANDER         882.804753\n",
      "QUINDÍO                    812.487326\n",
      "RISARALDA                  828.663636\n",
      "SAN ANDRÉS PROVIDENCIA     998.046649\n",
      "SANTANDER                  810.389274\n",
      "SUCRE                      999.993312\n",
      "TOLIMA                     883.189280\n",
      "VALLE DEL CAUCA            912.545612\n",
      "Name: ValorObservado, dtype: float64\n"
     ]
    }
   ],
   "source": [
    "print(f'La presión atmoférica promedio por departamento es: {presion_por_departamento}')"
   ]
  },
  {
   "cell_type": "code",
   "execution_count": 58,
   "metadata": {
    "scrolled": false
   },
   "outputs": [
    {
     "name": "stdout",
     "output_type": "stream",
     "text": [
      "La presión atmoférica promedio por municipio es: Departamento            Municipio             \n",
      "AMAZONAS                LETICIA                   1000.196346\n",
      "                        PUERTO NARIÑO              996.844611\n",
      "ANTIOQUIA               ITUANGO                    812.226087\n",
      "                        MEDELLÍN                   851.090500\n",
      "                        RETIRO                     749.817361\n",
      "                        RIONEGRO                   789.678231\n",
      "                        SANTUARIO                  788.614931\n",
      "ARAUCA                  ARAUCA                     995.735139\n",
      "                        SARAVENA                   787.667193\n",
      "ATLÁNTICO               BARRANQUILLA              1010.269035\n",
      "                        SOLEDAD                   1007.247059\n",
      "BOGOTA D.C.             BOGOTA, D.C                717.361040\n",
      "BOLIVAR                 ACHÍ                      1006.385650\n",
      "                        ARJONA                    1010.415738\n",
      "                        CARTAGENA DE INDIAS       1007.186656\n",
      "                        EL GUAMO                   609.042742\n",
      "                        SANTA CATALINA            1009.237097\n",
      "                        SANTA ROSA DEL SUR         895.436997\n",
      "BOYACÁ                  AQUITANIA                  716.405347\n",
      "                        BOYACÁ                     691.242803\n",
      "                        CHINAVITA                  799.011307\n",
      "                        CHITA                      716.804545\n",
      "                        CUÍTIVA                    707.713343\n",
      "                        EL ESPINO                  670.849653\n",
      "                        GUAYATÁ                    842.635000\n",
      "                        GUICÁN                     573.880903\n",
      "                        MONGUA                     717.949583\n",
      "                        MOTAVITA                   694.414773\n",
      "                        PAIPA                      747.123936\n",
      "                        PESCA                      733.635606\n",
      "                        PISVA                      854.258402\n",
      "                        QUÍPAMA                    877.762651\n",
      "                        RÁQUIRA                    779.301966\n",
      "                        SAMACÁ                     737.727623\n",
      "                        SIACHOQUE                  733.576316\n",
      "                        SOCOTÁ                     661.830070\n",
      "                        SOGAMOSO                   757.894363\n",
      "                        SOTAQUIRÁ                  742.310517\n",
      "                        VENTAQUEMADA               682.492553\n",
      "                        VILLA DE LEIVA             785.437500\n",
      "CALDAS                  ANSERMA                    801.737153\n",
      "                        MARULANDA                  768.630192\n",
      "                        RIOSUCIO                   788.779861\n",
      "                        SALAMINA                   687.246181\n",
      "                        VILLAMARIA                 622.916409\n",
      "CAQUETA                 EL DONCELLO                978.817802\n",
      "CASANARE                MONTERREY                  918.918210\n",
      "                        PAZ DE ARIPORO             990.123942\n",
      "                        TÁMARA                     899.001597\n",
      "                        YOPAL                      975.331879\n",
      "CAUCA                   CORINTO                    897.335417\n",
      "CESAR                   AGUACHICA                  991.688889\n",
      "                        VALLEDUPAR                 985.339339\n",
      "CHOCÓ                   BAHÍA SOLANO (MUTIS)      1011.751923\n",
      "                        BOJAYÁ (BELLAVISTA)       1010.540860\n",
      "                        CÉRTEGUI                  1005.864276\n",
      "                        QUIBDÓ                    1004.174932\n",
      "                        SAN JOSÉ DEL PALMAR        892.554278\n",
      "CUNDINAMARCA            ANAPOIMA                   924.092169\n",
      "                        BOJACÁ                     740.015663\n",
      "                        CABRERA                    718.339721\n",
      "                        CACHIPAY                   833.838527\n",
      "                        CAPARRAPÍ                  872.988685\n",
      "                        CARMEN DE CARUPA           716.576653\n",
      "                        CHOCONTÁ                   737.929739\n",
      "                        CHÍA                       751.669612\n",
      "                        COGUA                      693.353333\n",
      "                        CUCUNUBÁ                   727.424638\n",
      "                        EL COLEGIO                 798.268741\n",
      "                        FACATATIVÁ                 747.749493\n",
      "                        FUNZA                      751.426801\n",
      "                        FÚQUENE                    752.485955\n",
      "                        GIRARDOT                   976.424306\n",
      "                        GUADUAS                    827.462539\n",
      "                        LA CALERA                  713.481612\n",
      "                        LA VEGA                    872.457790\n",
      "                        LENGUAZAQUE                725.984529\n",
      "                        MACHETÁ                    741.805265\n",
      "                        MEDINA                     951.843644\n",
      "                        MOSQUERA                   753.414236\n",
      "                        PASCA                      761.382883\n",
      "                        PULÍ                       865.532749\n",
      "                        SAN BERNARDO               810.796610\n",
      "                        SILVANIA                   857.095331\n",
      "                        SIMIJACA                   707.474137\n",
      "                        SOACHA                     701.999310\n",
      "                        SOPÓ                       747.113088\n",
      "                        SUBACHOQUE                 703.271955\n",
      "                        TABIO                      748.123512\n",
      "                        TENA                       797.147905\n",
      "                        TOCANCIPÁ                  751.973126\n",
      "                        VIANÍ                      846.001412\n",
      "                        VILLAGÓMEZ                 726.566657\n",
      "                        YACOPÍ                     864.125542\n",
      "                        ZIPAQUIRÁ                  708.523307\n",
      "CÓRDOBA                 AYAPEL                    1005.890523\n",
      "                        MONTERÍA                  1009.111424\n",
      "                        PLANETA RICA               999.778431\n",
      "                        SAHAGÚN                   1000.351246\n",
      "HUILA                   ALGECIRAS                  901.845783\n",
      "                        NÁTAGA                     844.082946\n",
      "                        SAN AGUSTÍN                827.094427\n",
      "LA GUAJIRA              ALBANIA                    999.522819\n",
      "                        RIOHACHA                  1007.901012\n",
      "MAGDALENA               ARIGUANÍ (EL DIFICIL)      993.516469\n",
      "                        EL BANCO                  1005.508449\n",
      "                        PIVIJAI                   1009.350641\n",
      "                        SANTA MARTA                982.484375\n",
      "META                    BARRANCA DE UPÍA           971.879310\n",
      "                        EL CALVARIO                801.829858\n",
      "                        GRANADA                    976.700000\n",
      "                        LEJANÍAS                   939.621875\n",
      "                        PUERTO GAITÁN              991.973315\n",
      "                        VISTAHERMOSA               977.277031\n",
      "NARIÑO                  ALDANA                     714.022589\n",
      "                        BARBACOAS                  877.786420\n",
      "                        TUMACO                     756.819385\n",
      "NORTE DE SANTANDER      ARBOLEDAS                  904.341358\n",
      "                        CÁCHIRA                    802.512229\n",
      "                        CÚCUTA                     976.170199\n",
      "                        TOLEDO                     854.287037\n",
      "QUINDÍO                 PIJAO                      810.730556\n",
      "                        SALENTO                    814.244097\n",
      "RISARALDA               BELÉN DE UMBRÍA            823.165432\n",
      "                        PEREIRA                    866.441997\n",
      "                        PUEBLO RICO                842.694656\n",
      "                        SANTA ROSA DE CABAL        790.315349\n",
      "SAN ANDRÉS PROVIDENCIA  SAN ANDRÉS                 998.046649\n",
      "SANTANDER               BARRANCABERMEJA            998.040606\n",
      "                        BUCARAMANGA                907.409651\n",
      "                        CARCASÍ                    692.723220\n",
      "                        CERRITO                    660.029933\n",
      "                        CHARALÁ                    868.160948\n",
      "                        FLORIDABLANCA              911.458359\n",
      "                        LEBRIJA                    882.626582\n",
      "                        MÁLAGA                     782.718072\n",
      "                        ONZAGA                     758.868063\n",
      "                        PIEDECUESTA                906.351657\n",
      "                        SABANA DE TORRES           992.665663\n",
      "                        SAN VICENTE DE CHUCURÍ     888.390476\n",
      "                        SURATÁ                     814.398575\n",
      "                        TONA                       668.823852\n",
      "                        VETAS                      684.314352\n",
      "SUCRE                   SAN BENITO ABAD           1006.949364\n",
      "                        SAN MARCOS                1006.431878\n",
      "                        SINCELEJO                  989.052017\n",
      "TOLIMA                  CHAPARRAL                  911.681873\n",
      "                        IBAGUÉ                     838.220131\n",
      "                        MELGAR                     973.009722\n",
      "                        PLANADAS                   867.175349\n",
      "VALLE DEL CAUCA         BUENAVENTURA              1006.318885\n",
      "                        BUGA                       904.789583\n",
      "                        CARTAGO                    909.931673\n",
      "                        LA CUMBRE                  836.818750\n",
      "                        PALMIRA                    904.525338\n",
      "                        TULUÁ                      719.676398\n",
      "Name: ValorObservado, dtype: float64\n"
     ]
    }
   ],
   "source": [
    "print(f'La presión atmoférica promedio por municipio es: {presion_por_municipio}')      "
   ]
  },
  {
   "cell_type": "markdown",
   "metadata": {},
   "source": [
    "## 5. ¿Qué meses tienen el valor máximo y mínimo de presión atmosférica?"
   ]
  },
  {
   "cell_type": "code",
   "execution_count": 61,
   "metadata": {},
   "outputs": [
    {
     "name": "stdout",
     "output_type": "stream",
     "text": [
      " El mes con mayor valor presión es el 12\n"
     ]
    }
   ],
   "source": [
    "# Para buscar el mes con mayor presión atmoférica\n",
    "mes_maximo = df_presion.loc[df_presion['ValorObservado'].idxmax(), 'Mes']\n",
    "print(f'El mes con mayor valor presión es el {mes_maximo}')"
   ]
  },
  {
   "cell_type": "code",
   "execution_count": 62,
   "metadata": {},
   "outputs": [
    {
     "name": "stdout",
     "output_type": "stream",
     "text": [
      "El mes con menor valor presión es: 3\n"
     ]
    }
   ],
   "source": [
    "# El mes menor\n",
    "mes_minimo = df_presion.loc[df_presion['ValorObservado'].idxmin(), 'Mes']\n",
    "print(f'El mes con menor valor presión es: {mes_minimo}')"
   ]
  },
  {
   "cell_type": "code",
   "execution_count": null,
   "metadata": {},
   "outputs": [],
   "source": []
  }
 ],
 "metadata": {
  "colab": {
   "provenance": []
  },
  "kernelspec": {
   "display_name": "Python 3 (ipykernel)",
   "language": "python",
   "name": "python3"
  },
  "language_info": {
   "codemirror_mode": {
    "name": "ipython",
    "version": 3
   },
   "file_extension": ".py",
   "mimetype": "text/x-python",
   "name": "python",
   "nbconvert_exporter": "python",
   "pygments_lexer": "ipython3",
   "version": "3.9.12"
  }
 },
 "nbformat": 4,
 "nbformat_minor": 1
}
