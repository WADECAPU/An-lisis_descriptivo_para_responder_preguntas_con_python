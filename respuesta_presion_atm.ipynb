{
 "cells": [
  {
   "cell_type": "code",
   "execution_count": 1,
   "metadata": {
    "executionInfo": {
     "elapsed": 6198,
     "status": "ok",
     "timestamp": 1680112937254,
     "user": {
      "displayName": "Wilson De Caro Puertas",
      "userId": "02042771055684065616"
     },
     "user_tz": 300
    },
    "id": "5F0TnXUMcN6w"
   },
   "outputs": [],
   "source": [
    "import numpy as np\n",
    "import pandas as pd\n",
    "import matplotlib.pyplot as plt\n",
    "import seaborn as sns"
   ]
  },
  {
   "cell_type": "code",
   "execution_count": 2,
   "metadata": {
    "colab": {
     "base_uri": "https://localhost:8080/"
    },
    "executionInfo": {
     "elapsed": 45292,
     "status": "ok",
     "timestamp": 1680112834270,
     "user": {
      "displayName": "Wilson De Caro Puertas",
      "userId": "02042771055684065616"
     },
     "user_tz": 300
    },
    "id": "UoLB-a9kcO0i",
    "outputId": "a67b25b5-330e-4b72-d02d-483242eb03e6"
   },
   "outputs": [
    {
     "name": "stdout",
     "output_type": "stream",
     "text": [
      "Mounted at /content/drive\n"
     ]
    }
   ],
   "source": [
    "# from google.colab import drive\n",
    "# drive.mount('/content/drive')"
   ]
  },
  {
   "cell_type": "code",
   "execution_count": 2,
   "metadata": {
    "colab": {
     "base_uri": "https://localhost:8080/",
     "height": 250
    },
    "executionInfo": {
     "elapsed": 1526,
     "status": "ok",
     "timestamp": 1680112944258,
     "user": {
      "displayName": "Wilson De Caro Puertas",
      "userId": "02042771055684065616"
     },
     "user_tz": 300
    },
    "id": "5-PLQjiQcl86",
    "outputId": "713bfbeb-d5b0-4101-9b99-3681f347fe3c"
   },
   "outputs": [
    {
     "data": {
      "text/html": [
       "<div>\n",
       "<style scoped>\n",
       "    .dataframe tbody tr th:only-of-type {\n",
       "        vertical-align: middle;\n",
       "    }\n",
       "\n",
       "    .dataframe tbody tr th {\n",
       "        vertical-align: top;\n",
       "    }\n",
       "\n",
       "    .dataframe thead th {\n",
       "        text-align: right;\n",
       "    }\n",
       "</style>\n",
       "<table border=\"1\" class=\"dataframe\">\n",
       "  <thead>\n",
       "    <tr style=\"text-align: right;\">\n",
       "      <th></th>\n",
       "      <th>CodigoEstacion</th>\n",
       "      <th>CodigoSensor</th>\n",
       "      <th>FechaObservacion</th>\n",
       "      <th>ValorObservado</th>\n",
       "      <th>NombreEstacion</th>\n",
       "      <th>Departamento</th>\n",
       "      <th>Municipio</th>\n",
       "      <th>ZonaHidrografica</th>\n",
       "      <th>Latitud</th>\n",
       "      <th>Longitud</th>\n",
       "      <th>DescripcionSensor</th>\n",
       "      <th>UnidadMedida</th>\n",
       "      <th>Año</th>\n",
       "    </tr>\n",
       "  </thead>\n",
       "  <tbody>\n",
       "    <tr>\n",
       "      <th>14350546</th>\n",
       "      <td>48015040</td>\n",
       "      <td>255.0</td>\n",
       "      <td>01/01/2021 07:31:00 AM</td>\n",
       "      <td>1001.0</td>\n",
       "      <td>PTO NARIÑO</td>\n",
       "      <td>AMAZONAS</td>\n",
       "      <td>PUERTO NARIÑO</td>\n",
       "      <td>AMAZONAS - DIRECTOS</td>\n",
       "      <td>-3.780000</td>\n",
       "      <td>-70.363000</td>\n",
       "      <td>Presión Atmosferica (1h)</td>\n",
       "      <td>HPa</td>\n",
       "      <td>2021</td>\n",
       "    </tr>\n",
       "    <tr>\n",
       "      <th>14350547</th>\n",
       "      <td>24010390</td>\n",
       "      <td>255.0</td>\n",
       "      <td>01/01/2021 07:00:00 PM</td>\n",
       "      <td>726.0</td>\n",
       "      <td>El TRIANGULO - CAR</td>\n",
       "      <td>CUNDINAMARCA</td>\n",
       "      <td>LENGUAZAQUE</td>\n",
       "      <td>SOGAMOSO</td>\n",
       "      <td>5.305000</td>\n",
       "      <td>-73.619000</td>\n",
       "      <td>Presión Atmosferica (1h)</td>\n",
       "      <td>HPa</td>\n",
       "      <td>2021</td>\n",
       "    </tr>\n",
       "    <tr>\n",
       "      <th>14350548</th>\n",
       "      <td>24055080</td>\n",
       "      <td>255.0</td>\n",
       "      <td>01/01/2021 01:00:00 PM</td>\n",
       "      <td>998.6</td>\n",
       "      <td>VIZCAINA LA LIZAMA  - AUT</td>\n",
       "      <td>SANTANDER</td>\n",
       "      <td>BARRANCABERMEJA</td>\n",
       "      <td>SOGAMOSO</td>\n",
       "      <td>6.982972</td>\n",
       "      <td>-73.704889</td>\n",
       "      <td>Presión Atmosferica (1h)</td>\n",
       "      <td>HPa</td>\n",
       "      <td>2021</td>\n",
       "    </tr>\n",
       "    <tr>\n",
       "      <th>14350549</th>\n",
       "      <td>24015506</td>\n",
       "      <td>255.0</td>\n",
       "      <td>01/01/2021 08:00:00 AM</td>\n",
       "      <td>754.0</td>\n",
       "      <td>CAPELLANIA - CAR</td>\n",
       "      <td>CUNDINAMARCA</td>\n",
       "      <td>FÚQUENE</td>\n",
       "      <td>SOGAMOSO</td>\n",
       "      <td>5.449000</td>\n",
       "      <td>-73.769000</td>\n",
       "      <td>Presión Atmosferica (1h)</td>\n",
       "      <td>HPa</td>\n",
       "      <td>2021</td>\n",
       "    </tr>\n",
       "    <tr>\n",
       "      <th>14350550</th>\n",
       "      <td>48015040</td>\n",
       "      <td>255.0</td>\n",
       "      <td>01/01/2021 07:48:00 AM</td>\n",
       "      <td>1000.9</td>\n",
       "      <td>PTO NARIÑO</td>\n",
       "      <td>AMAZONAS</td>\n",
       "      <td>PUERTO NARIÑO</td>\n",
       "      <td>AMAZONAS - DIRECTOS</td>\n",
       "      <td>-3.780000</td>\n",
       "      <td>-70.363000</td>\n",
       "      <td>Presión Atmosferica (1h)</td>\n",
       "      <td>HPa</td>\n",
       "      <td>2021</td>\n",
       "    </tr>\n",
       "  </tbody>\n",
       "</table>\n",
       "</div>"
      ],
      "text/plain": [
       "          CodigoEstacion  CodigoSensor        FechaObservacion  \\\n",
       "14350546        48015040         255.0  01/01/2021 07:31:00 AM   \n",
       "14350547        24010390         255.0  01/01/2021 07:00:00 PM   \n",
       "14350548        24055080         255.0  01/01/2021 01:00:00 PM   \n",
       "14350549        24015506         255.0  01/01/2021 08:00:00 AM   \n",
       "14350550        48015040         255.0  01/01/2021 07:48:00 AM   \n",
       "\n",
       "          ValorObservado             NombreEstacion  Departamento  \\\n",
       "14350546          1001.0                 PTO NARIÑO      AMAZONAS   \n",
       "14350547           726.0         El TRIANGULO - CAR  CUNDINAMARCA   \n",
       "14350548           998.6  VIZCAINA LA LIZAMA  - AUT     SANTANDER   \n",
       "14350549           754.0           CAPELLANIA - CAR  CUNDINAMARCA   \n",
       "14350550          1000.9                 PTO NARIÑO      AMAZONAS   \n",
       "\n",
       "                Municipio     ZonaHidrografica   Latitud   Longitud  \\\n",
       "14350546    PUERTO NARIÑO  AMAZONAS - DIRECTOS -3.780000 -70.363000   \n",
       "14350547      LENGUAZAQUE             SOGAMOSO  5.305000 -73.619000   \n",
       "14350548  BARRANCABERMEJA             SOGAMOSO  6.982972 -73.704889   \n",
       "14350549          FÚQUENE             SOGAMOSO  5.449000 -73.769000   \n",
       "14350550    PUERTO NARIÑO  AMAZONAS - DIRECTOS -3.780000 -70.363000   \n",
       "\n",
       "                 DescripcionSensor UnidadMedida   Año  \n",
       "14350546  Presión Atmosferica (1h)          HPa  2021  \n",
       "14350547  Presión Atmosferica (1h)          HPa  2021  \n",
       "14350548  Presión Atmosferica (1h)          HPa  2021  \n",
       "14350549  Presión Atmosferica (1h)          HPa  2021  \n",
       "14350550  Presión Atmosferica (1h)          HPa  2021  "
      ]
     },
     "execution_count": 2,
     "metadata": {},
     "output_type": "execute_result"
    }
   ],
   "source": [
    "#df_presion = pd.read_csv('/content/drive/MyDrive/ atmospheric_project/Actualizacion/Presion_atm_update_2021.csv')\n",
    "df_presion = pd.read_csv('Presion_atmoferica_limpio_2021.csv', index_col=0)\n",
    "pd.set_option('display.max_colwidth', None)\n",
    "pd.set_option('display.max_rows', None)\n",
    "df_presion.head()"
   ]
  },
  {
   "cell_type": "code",
   "execution_count": null,
   "metadata": {
    "colab": {
     "base_uri": "https://localhost:8080/"
    },
    "executionInfo": {
     "elapsed": 216,
     "status": "ok",
     "timestamp": 1679948274592,
     "user": {
      "displayName": "Wilson De Caro Puertas",
      "userId": "02042771055684065616"
     },
     "user_tz": 300
    },
    "id": "zJZ5MyodfCtp",
    "outputId": "1dbb9391-1ddc-408d-c64a-4f975a6e1c14"
   },
   "outputs": [
    {
     "data": {
      "text/plain": [
       "Index(['Unnamed: 0', 'CodigoEstacion', 'CodigoSensor', 'FechaObservacion',\n",
       "       'ValorObservado', 'NombreEstacion', 'Departamento', 'Municipio',\n",
       "       'ZonaHidrografica', 'Latitud', 'Longitud', 'DescripcionSensor',\n",
       "       'UnidadMedida', 'Año', 'Mes'],\n",
       "      dtype='object')"
      ]
     },
     "execution_count": 4,
     "metadata": {},
     "output_type": "execute_result"
    }
   ],
   "source": [
    "df_presion.columns"
   ]
  },
  {
   "cell_type": "markdown",
   "metadata": {
    "id": "0ppMYMISuTX5"
   },
   "source": [
    "# Presión atmosférica en Colombia"
   ]
  },
  {
   "cell_type": "markdown",
   "metadata": {
    "id": "MEf9wnQGigzt"
   },
   "source": [
    "### 1 ¿Cuál es la ciudad con la presión atmosférica más alta y cuál es la ciudad con la presión atmosférica más baja?"
   ]
  },
  {
   "cell_type": "code",
   "execution_count": null,
   "metadata": {
    "id": "G33InJ9af27f"
   },
   "outputs": [],
   "source": [
    "# Hacemos la filtracion de las columnas que vamos a utlizar \n",
    "df_presion = df_presion[['ValorObservado', 'NombreEstacion', 'Municipio']]\n",
    "\n",
    "# Despues agrupamos con el campo que nos interesa y le sacamos el mean()\n",
    "df_promedio_presion = df_presion.groupby(['Municipio']).mean()"
   ]
  },
  {
   "cell_type": "code",
   "execution_count": null,
   "metadata": {
    "colab": {
     "base_uri": "https://localhost:8080/",
     "height": 112
    },
    "id": "ZiyWoxWvh1CX",
    "outputId": "a9ec4aa0-56ee-4f6b-c720-356c2769e319"
   },
   "outputs": [
    {
     "data": {
      "text/html": [
       "<div>\n",
       "<style scoped>\n",
       "    .dataframe tbody tr th:only-of-type {\n",
       "        vertical-align: middle;\n",
       "    }\n",
       "\n",
       "    .dataframe tbody tr th {\n",
       "        vertical-align: top;\n",
       "    }\n",
       "\n",
       "    .dataframe thead th {\n",
       "        text-align: right;\n",
       "    }\n",
       "</style>\n",
       "<table border=\"1\" class=\"dataframe\">\n",
       "  <thead>\n",
       "    <tr style=\"text-align: right;\">\n",
       "      <th></th>\n",
       "      <th>ValorObservado</th>\n",
       "    </tr>\n",
       "    <tr>\n",
       "      <th>Municipio</th>\n",
       "      <th></th>\n",
       "    </tr>\n",
       "  </thead>\n",
       "  <tbody>\n",
       "    <tr>\n",
       "      <th>BAHÍA SOLANO (MUTIS)</th>\n",
       "      <td>1011.751923</td>\n",
       "    </tr>\n",
       "  </tbody>\n",
       "</table>\n",
       "</div>"
      ],
      "text/plain": [
       "                      ValorObservado\n",
       "Municipio                           \n",
       "BAHÍA SOLANO (MUTIS)     1011.751923"
      ]
     },
     "execution_count": 31,
     "metadata": {},
     "output_type": "execute_result"
    }
   ],
   "source": [
    "# Buscamos el municipio con mayor presion y lo ordenamos.\n",
    "municipios_mas_presion = df_promedio_presion.sort_values(by='ValorObservado', ascending=False).head(1)\n",
    "municipios_mas_presion"
   ]
  },
  {
   "cell_type": "code",
   "execution_count": null,
   "metadata": {
    "colab": {
     "base_uri": "https://localhost:8080/",
     "height": 112
    },
    "id": "jC8HenNYh5NO",
    "outputId": "99dd558f-4dfd-4505-b200-909cbf3d9f2f"
   },
   "outputs": [
    {
     "data": {
      "text/html": [
       "<div>\n",
       "<style scoped>\n",
       "    .dataframe tbody tr th:only-of-type {\n",
       "        vertical-align: middle;\n",
       "    }\n",
       "\n",
       "    .dataframe tbody tr th {\n",
       "        vertical-align: top;\n",
       "    }\n",
       "\n",
       "    .dataframe thead th {\n",
       "        text-align: right;\n",
       "    }\n",
       "</style>\n",
       "<table border=\"1\" class=\"dataframe\">\n",
       "  <thead>\n",
       "    <tr style=\"text-align: right;\">\n",
       "      <th></th>\n",
       "      <th>ValorObservado</th>\n",
       "    </tr>\n",
       "    <tr>\n",
       "      <th>Municipio</th>\n",
       "      <th></th>\n",
       "    </tr>\n",
       "  </thead>\n",
       "  <tbody>\n",
       "    <tr>\n",
       "      <th>GUICÁN</th>\n",
       "      <td>573.880903</td>\n",
       "    </tr>\n",
       "  </tbody>\n",
       "</table>\n",
       "</div>"
      ],
      "text/plain": [
       "           ValorObservado\n",
       "Municipio                \n",
       "GUICÁN         573.880903"
      ]
     },
     "execution_count": 32,
     "metadata": {},
     "output_type": "execute_result"
    }
   ],
   "source": [
    "# Menor presion\n",
    "municipios_menos_presion = df_promedio_presion.sort_values(by='ValorObservado', ascending=True).head(1)\n",
    "municipios_menos_presion"
   ]
  },
  {
   "cell_type": "code",
   "execution_count": null,
   "metadata": {
    "id": "8J5Jn4v9sMZx",
    "outputId": "b03a2df0-0fcd-4fd5-992f-144d2c3ec016"
   },
   "outputs": [
    {
     "data": {
      "image/png": "[encoded data removed]",
      "text/plain": [
       "<Figure size 720x432 with 1 Axes>"
      ]
     },
     "metadata": {},
     "output_type": "display_data"
    }
   ],
   "source": [
    "# Establecer el estilo de los gráficos\n",
    "sns.set_style(\"whitegrid\")\n",
    "\n",
    "# Crear una figura y ejes\n",
    "fig, ax = plt.subplots(figsize=(10, 6))\n",
    "\n",
    "# Crear un gráfico de barras para los municipios con mayor presión\n",
    "ax.bar(x=municipios_mas_presion.index, height=municipios_mas_presion[\"ValorObservado\"], color=\"darkmagenta\", label=\"Municipio con mayor presión\")\n",
    "\n",
    "# Crear un gráfico de barras para los municipios con menor presión\n",
    "ax.bar(x=municipios_menos_presion.index, height=municipios_menos_presion[\"ValorObservado\"], color=\"yellow\", label=\"Municipio con menor presión\")\n",
    "\n",
    "# Añadir etiquetas y título al gráfico\n",
    "ax.set_xlabel(\"Municipio\")\n",
    "ax.set_ylabel(\"Presión atmosférica (HPa)\")\n",
    "ax.set_title(\"Municipios con mayor y menor presión atmosférica\")\n",
    "ax.legend()\n",
    "\n",
    "plt.show()"
   ]
  },
  {
   "cell_type": "markdown",
   "metadata": {
    "id": "KxNVnKDBivvN"
   },
   "source": [
    "### 2 ¿Cuántas estaciones hay en el dataset y cuáles son sus nombres?"
   ]
  },
  {
   "cell_type": "code",
   "execution_count": null,
   "metadata": {
    "id": "L0MVTCvssMZ0",
    "outputId": "3cabe54a-11ef-4959-82d9-dde20879be5d"
   },
   "outputs": [
    {
     "name": "stdout",
     "output_type": "stream",
     "text": [
      "El numero de estaciones que hay son 174\n"
     ]
    }
   ],
   "source": [
    "# nunique(), devuelve el número de valores únicos en una columna\n",
    "num_estaciones = df_presion['NombreEstacion'].nunique()\n",
    "print(f'El numero de estaciones que hay son {num_estaciones}')"
   ]
  },
  {
   "cell_type": "code",
   "execution_count": null,
   "metadata": {
    "id": "fTBMsTMAsMZ0",
    "outputId": "00b7a1f8-80d2-456a-cf03-51a3f2381651"
   },
   "outputs": [
    {
     "data": {
      "text/plain": [
       "array(['PTO NARIÑO', 'El TRIANGULO - CAR', 'VIZCAINA LA LIZAMA  - AUT',\n",
       "       'CAPELLANIA - CAR', 'SINCERIN  - AUT', 'RAQUIRA - CAR',\n",
       "       'APTO OLAYA HERRERA - TX GPRS', 'CACHIPAY - CAR', 'AYAPEL',\n",
       "       'PR CHOCO: APTO EL CARANO', 'BERLIN - AUT',\n",
       "       'CHARALA - ISAGEN - Estacion en Pruebas', 'PARAMO GUERRERO  - AUT',\n",
       "       'CARIMAGUA', 'AEROPUERTO LAS FLORES  - AUT',\n",
       "       'APTO EL DORADO - TX GPRS', 'PERENCO: TAMARA',\n",
       "       'ESCUELA NAVAL BARRANQUILLA  - AUT',\n",
       "       'APTO ERNESTO CORTIZOS TX GPRS', 'VIANI - CAR', 'NEOMUNDO - AUT',\n",
       "       'CARDON EL', 'PR CHOCO: CERTEGUI', 'EL HATO - CAR', 'EL TUNEL',\n",
       "       'PARAMO ALMORZADERO  - AUT', 'PUERTA ROJA - AUT',\n",
       "       'APTO SESQUICENTENARIO TX GPRS', 'PERENCO: TOQUILLA',\n",
       "       'APTO MATECAÑA TX GPS/GOES', 'APTO ALMIRANTE PADILLA TX GPRS',\n",
       "       'EL GUAMO - AUT', 'SAN MARCOS - AUT', 'AEROPUERTO SAN LUIS - AUT',\n",
       "       'SAN  VICENTE DE CHUCURI  - AUT', 'PR CHOCO: BELLAVISTA',\n",
       "       'GUAMAL - CAR', 'SAN BENITO ABAD - LA MOJANA TX GPRS/GOES',\n",
       "       'LA MINA CERREJON  - AUT', 'APTO ALFONSO LOPEZ', 'PERENCO: PISBA',\n",
       "       'APTO CAMILO DAZA', 'LAGUNA DE LA PLAZA', 'AGUAS CLARAS - CAR',\n",
       "       'CAPARRAPI - CAR', 'APTO J.M CORDOVA TX GPRS',\n",
       "       'AEROPUERTO VASQUEZ COBO', 'EL DIAMANTE - AUT',\n",
       "       'APTO ALFONSO BONILLA ARAGON - TX GPRS', 'APTO PALONEGRO',\n",
       "       'GRANJA MIRA', 'AEROPUERTO RAFAEL NUNEZ', 'TUNGUAVITA - AUT',\n",
       "       'APTO LOS GARZONES', 'PR CHOCO: PANAMERICANA', 'MEDIA LUNA - AUT',\n",
       "       'PTAR TOCANCIPA - CAR', 'EL DELIRIO- CAR',\n",
       "       'PR CHOCO: SAN JOSE PALMAR', 'APTO YOPAL', 'EL DIFICIL - AUT',\n",
       "       'AEROPUERTO A LLERAS C', 'AGUACHICA - AUT', 'VIVERO SURATA  - AUT',\n",
       "       'SARAVENA  - AUT', 'MEDINA - AUT', 'LEJANÍAS - AUT',\n",
       "       'DEMOSTRACION GRANJA  - AUT', 'MALAGA 2',\n",
       "       'UNIVERSIDAD DE LA SABANA - AUT', 'MERCEDES - AUT',\n",
       "       'AEROPUERTO FURATENA  - AUT', 'VETAS - AUT',\n",
       "       'UNIVERSIDAD UNAD CARTAGENA - AUT', 'GALERAZAMBA  - AUT',\n",
       "       'PIEDECUESTA GRANJA', 'ITUANGO - AUT', 'SABANA DE TORRES',\n",
       "       'VILLA DE LEIVA  - AUT', 'EL PARAMO - AUT', 'PLANETA RICA  - AUT',\n",
       "       'PLANADAS - AUT', 'TUNJA-U.P.T.C - AUT', 'ITA VALSALICE  - AUT',\n",
       "       'SIACHOQUE - AUT', 'VILLA INES  - AUT', 'IBAGUE - AUT', 'ACAPULCO',\n",
       "       'YACOPI  - AUT', 'JARDIN BOTANICO  - AUT', 'SOTAQUIRÁ - AUT',\n",
       "       'SUSA - AUT', 'GUADUALITO - AUT', 'ALGECIRAS - AUT',\n",
       "       'SAHAGUN - AUT', 'MAGUARE - AUT', 'PARAMO ALTO - AUT',\n",
       "       'UNIVERSIDAD DEL PACIFICO - AUT', 'ARAUCA TERMINAL - AUT',\n",
       "       'CAMPO HERMOSO - AUT', 'POTREROS - AUT', 'GUAICARAMO  - AUT',\n",
       "       'CANELOS  - AUT', 'NATAGA  - AUT', 'LAS BRISAS - AUT',\n",
       "       'POLIDEPORTIVO CACHIRA - AUT', 'ALTO DEL TRIGO - AUT',\n",
       "       'PARQUE ARQUEOLOGICO - AUT', 'ARBOLEDAS - AUT', 'BRASIL - AUT',\n",
       "       'EL CALVARIO - AUT', 'FLORIDABLANCA - AUT', 'CACHIRI  - AUT',\n",
       "       'VISTA HERMOSA - AUT', 'ALTAQUER - AUT', 'CORRALITOS PULI',\n",
       "       'SANTA HELENA  - AUT', 'HACIENDA LA MESA  - AUT',\n",
       "       'UNIVERSIDAD SANTO TOMÁS  - AUT', 'CUCUNUBA - AUT', 'TABIO  - AUT',\n",
       "       'ACOMODO EL', 'EL SOCHE  - AUT', 'EL DESTINO  - AUT',\n",
       "       'LA ESMERALDA-  - AUT', 'EL OKAL  - AUT', 'IBERIA LA', 'MAJAGUAL',\n",
       "       'BELLAVISTA - JESUS MARIA - AUT', 'EL VINCULO - AUT',\n",
       "       'LA RAMADA  - AUT', 'UNIVERSIDAD DE CUNDINAMARCA - AUT',\n",
       "       'PARQUE SOPO  - AUT', 'UNIVERSIDAD NACIONAL  - AUT',\n",
       "       'PARAMO RABANAL - AUT', 'RETIRO - AUT', 'MACHETA - CHIVOR',\n",
       "       'SANTA EMILIA - AUT', 'MERENGO  - AUT',\n",
       "       'EL JARDIN CUENCA ALTA RIO RISARALDA - AUT', 'IDEAM BOGOTA  - AUT',\n",
       "       'PIJAO - AUT', 'PAQUILO - AUT', 'NEVADO DEL COCUY - AUT',\n",
       "       'SALENTO - AUT', 'LA CUMBRE - AUT', 'SOGAMOSO - AUT',\n",
       "       'ZARAGOZA - AUT', 'PASCA - AUT', 'VALLE ALTO  - AUT',\n",
       "       'EL ESPINO - AUT', 'CHINAVITA - AUT', 'SANTUARIO - AUT',\n",
       "       'BASE AEREA MELGAR - AUT', 'AQUITANIA - AUT', 'TIBAITATA - AUT',\n",
       "       'TONA  - AUT', 'LA COSECHA - AUT', 'PUEBLO RICO  - AUT',\n",
       "       'TEATINOS - AUT', 'CHITA  - AUT', 'DUITAMA - AUT', 'PESCA - AUT',\n",
       "       'PANELAS - AUT', 'CORINTO - AUT', 'EL SILENCIO - AUT',\n",
       "       'GRANJA GUAYATA - AUT', 'MONGUA - AUT', 'LA SIERRA - AUT',\n",
       "       'GUACHACA - AUT', 'SANTA LUCIA - AUT', 'GRANADA SENA - AUT',\n",
       "       'OJO DE AGUA  - AUT', 'PEDRO PALO  - AUT'], dtype=object)"
      ]
     },
     "execution_count": 35,
     "metadata": {},
     "output_type": "execute_result"
    }
   ],
   "source": [
    "# Para ver los nombres de las estaciones que hay\n",
    "df_presion['NombreEstacion'].unique()"
   ]
  },
  {
   "cell_type": "markdown",
   "metadata": {
    "id": "iCs66YVysMZ1"
   },
   "source": [
    "### 3. ¿Cuántos sensores hay por estación?\n"
   ]
  },
  {
   "cell_type": "code",
   "execution_count": null,
   "metadata": {
    "id": "Un1pMMa6sMZ1",
    "outputId": "dc9220dc-5a94-425f-930d-37a350ce4db0"
   },
   "outputs": [
    {
     "data": {
      "text/plain": [
       "PTO NARIÑO                                   41544\n",
       "SANTA HELENA  - AUT                           3094\n",
       "CORRALITOS PULI                               2502\n",
       "LA ESMERALDA-  - AUT                          2125\n",
       "EL OKAL  - AUT                                2121\n",
       "TABIO  - AUT                                  1887\n",
       "EL SOCHE  - AUT                               1885\n",
       "HACIENDA LA MESA  - AUT                       1779\n",
       "ACOMODO EL                                    1768\n",
       "UNIVERSIDAD SANTO TOMÁS  - AUT                1760\n",
       "PARQUE SOPO  - AUT                            1726\n",
       "LA RAMADA  - AUT                              1716\n",
       "IBERIA LA                                     1692\n",
       "EL DESTINO  - AUT                             1354\n",
       "ESCUELA NAVAL BARRANQUILLA  - AUT              746\n",
       "NEOMUNDO - AUT                                 746\n",
       "PARAMO ALMORZADERO  - AUT                      745\n",
       "LA MINA CERREJON  - AUT                        745\n",
       "EL GUAMO - AUT                                 744\n",
       "PARAMO GUERRERO  - AUT                         742\n",
       "BERLIN - AUT                                   738\n",
       "PR CHOCO: APTO EL CARANO                       730\n",
       "LAGUNA DE LA PLAZA                             729\n",
       "PERENCO: TOQUILLA                              729\n",
       "PR CHOCO: PANAMERICANA                         728\n",
       "EL TUNEL                                       727\n",
       "PERENCO: PISBA                                 726\n",
       "PR CHOCO: CERTEGUI                             725\n",
       "AEROPUERTO LAS FLORES  - AUT                   722\n",
       "PUERTA ROJA - AUT                              719\n",
       "CHARALA - ISAGEN - Estacion en Pruebas         717\n",
       "PR CHOCO: SAN JOSE PALMAR                      713\n",
       "CAPELLANIA - CAR                               712\n",
       "RAQUIRA - CAR                                  712\n",
       "EL HATO - CAR                                  711\n",
       "El TRIANGULO - CAR                             711\n",
       "VIANI - CAR                                    708\n",
       "AGUAS CLARAS - CAR                             708\n",
       "SAN BENITO ABAD - LA MOJANA TX GPRS/GOES       707\n",
       "AYAPEL                                         707\n",
       "CAPARRAPI - CAR                                707\n",
       "EL DELIRIO- CAR                                707\n",
       "PTAR TOCANCIPA - CAR                           707\n",
       "CACHIPAY - CAR                                 706\n",
       "GUAMAL - CAR                                   706\n",
       "PERENCO: TAMARA                                689\n",
       "EL DIAMANTE - AUT                              685\n",
       "EL DIFICIL - AUT                               674\n",
       "SARAVENA  - AUT                                664\n",
       "MERCEDES - AUT                                 664\n",
       "MALAGA 2                                       664\n",
       "ALGECIRAS - AUT                                664\n",
       "AEROPUERTO FURATENA  - AUT                     664\n",
       "UNIVERSIDAD UNAD CARTAGENA - AUT               664\n",
       "PIEDECUESTA GRANJA                             664\n",
       "SABANA DE TORRES                               664\n",
       "VILLA DE LEIVA  - AUT                          664\n",
       "ITA VALSALICE  - AUT                           664\n",
       "JARDIN BOTANICO  - AUT                         664\n",
       "VIVERO SURATA  - AUT                           664\n",
       "ACAPULCO                                       664\n",
       "PLANETA RICA  - AUT                            663\n",
       "DEMOSTRACION GRANJA  - AUT                     662\n",
       "TUNJA-U.P.T.C - AUT                            648\n",
       "ARBOLEDAS - AUT                                648\n",
       "CAMPO HERMOSO - AUT                            648\n",
       "GUADUALITO - AUT                               648\n",
       "VETAS - AUT                                    648\n",
       "MAGUARE - AUT                                  646\n",
       "FLORIDABLANCA - AUT                            646\n",
       "YACOPI  - AUT                                  646\n",
       "SIACHOQUE - AUT                                646\n",
       "EL PARAMO - AUT                                646\n",
       "ARAUCA TERMINAL - AUT                          646\n",
       "CANELOS  - AUT                                 646\n",
       "LAS BRISAS - AUT                               646\n",
       "POLIDEPORTIVO CACHIRA - AUT                    646\n",
       "ALTO DEL TRIGO - AUT                           646\n",
       "UNIVERSIDAD DEL PACIFICO - AUT                 646\n",
       "PARQUE ARQUEOLOGICO - AUT                      646\n",
       "NATAGA  - AUT                                  645\n",
       "POTREROS - AUT                                 645\n",
       "UNIVERSIDAD DE LA SABANA - AUT                 645\n",
       "PARAMO ALTO - AUT                              645\n",
       "PLANADAS - AUT                                 645\n",
       "SAHAGUN - AUT                                  642\n",
       "VISTA HERMOSA - AUT                            640\n",
       "MACHETA - CHIVOR                               634\n",
       "EL CALVARIO - AUT                              633\n",
       "MERENGO  - AUT                                 607\n",
       "APTO ALFONSO LOPEZ                             605\n",
       "APTO CAMILO DAZA                               604\n",
       "AEROPUERTO VASQUEZ COBO                        602\n",
       "APTO OLAYA HERRERA - TX GPRS                   600\n",
       "CACHIRI  - AUT                                 599\n",
       "APTO ALMIRANTE PADILLA TX GPRS                 593\n",
       "APTO ALFONSO BONILLA ARAGON - TX GPRS          592\n",
       "VILLA INES  - AUT                              592\n",
       "APTO J.M CORDOVA TX GPRS                       588\n",
       "APTO MATECAÑA TX GPS/GOES                      581\n",
       "BRASIL - AUT                                   573\n",
       "SUSA - AUT                                     573\n",
       "CARDON EL                                      572\n",
       "APTO LOS GARZONES                              569\n",
       "SOTAQUIRÁ - AUT                                561\n",
       "APTO EL DORADO - TX GPRS                       557\n",
       "APTO PALONEGRO                                 553\n",
       "AEROPUERTO RAFAEL NUNEZ                        550\n",
       "AEROPUERTO A LLERAS C                          530\n",
       "IBAGUE - AUT                                   525\n",
       "CUCUNUBA - AUT                                 483\n",
       "SAN MARCOS - AUT                               458\n",
       "AEROPUERTO SAN LUIS - AUT                      394\n",
       "APTO SESQUICENTENARIO TX GPRS                  388\n",
       "GRANJA MIRA                                    325\n",
       "SINCERIN  - AUT                                305\n",
       "APTO YOPAL                                     298\n",
       "NEVADO DEL COCUY - AUT                         288\n",
       "SALENTO - AUT                                  288\n",
       "RETIRO - AUT                                   288\n",
       "IDEAM BOGOTA  - AUT                            288\n",
       "UNIVERSIDAD NACIONAL  - AUT                    288\n",
       "PIJAO - AUT                                    288\n",
       "UNIVERSIDAD DE CUNDINAMARCA - AUT              288\n",
       "EL VINCULO - AUT                               288\n",
       "BELLAVISTA - JESUS MARIA - AUT                 288\n",
       "EL JARDIN CUENCA ALTA RIO RISARALDA - AUT      288\n",
       "LA CUMBRE - AUT                                288\n",
       "VALLE ALTO  - AUT                              288\n",
       "EL ESPINO - AUT                                288\n",
       "SANTUARIO - AUT                                288\n",
       "BASE AEREA MELGAR - AUT                        288\n",
       "TIBAITATA - AUT                                288\n",
       "PAQUILO - AUT                                  287\n",
       "SOGAMOSO - AUT                                 286\n",
       "PASCA - AUT                                    283\n",
       "CHINAVITA - AUT                                283\n",
       "PARAMO RABANAL - AUT                           282\n",
       "ZARAGOZA - AUT                                 281\n",
       "AQUITANIA - AUT                                281\n",
       "PANELAS - AUT                                  264\n",
       "CHITA  - AUT                                   264\n",
       "TEATINOS - AUT                                 264\n",
       "PESCA - AUT                                    264\n",
       "DUITAMA - AUT                                  264\n",
       "TONA  - AUT                                    264\n",
       "PUEBLO RICO  - AUT                             262\n",
       "LA COSECHA - AUT                               262\n",
       "OJO DE AGUA  - AUT                             255\n",
       "SAN  VICENTE DE CHUCURI  - AUT                 252\n",
       "TUNGUAVITA - AUT                               248\n",
       "CORINTO - AUT                                  240\n",
       "EL SILENCIO - AUT                              240\n",
       "GRANJA GUAYATA - AUT                           240\n",
       "MONGUA - AUT                                   240\n",
       "LA SIERRA - AUT                                240\n",
       "MEDINA - AUT                                   236\n",
       "PEDRO PALO  - AUT                              231\n",
       "MAJAGUAL                                       223\n",
       "GUACHACA - AUT                                 192\n",
       "CARIMAGUA                                      184\n",
       "VIZCAINA LA LIZAMA  - AUT                      165\n",
       "SANTA EMILIA - AUT                             162\n",
       "ALTAQUER - AUT                                 162\n",
       "SANTA LUCIA - AUT                              161\n",
       "MEDIA LUNA - AUT                               156\n",
       "AGUACHICA - AUT                                135\n",
       "GUAICARAMO  - AUT                              116\n",
       "LEJANÍAS - AUT                                  96\n",
       "PR CHOCO: BELLAVISTA                            93\n",
       "GALERAZAMBA  - AUT                              62\n",
       "ITUANGO - AUT                                   46\n",
       "APTO ERNESTO CORTIZOS TX GPRS                   34\n",
       "GRANADA SENA - AUT                               1\n",
       "Name: NombreEstacion, dtype: int64"
      ]
     },
     "execution_count": 45,
     "metadata": {},
     "output_type": "execute_result"
    }
   ],
   "source": [
    "df_presion['NombreEstacion'].value_counts()"
   ]
  },
  {
   "cell_type": "markdown",
   "metadata": {
    "id": "jjU_c-XEsMZ2"
   },
   "source": [
    "### 4. ¿Cuál es la presión atmosférica promedio por departamento? ¿Y por municipio?\n"
   ]
  },
  {
   "cell_type": "code",
   "execution_count": null,
   "metadata": {
    "id": "CSknC6I7sMZ2"
   },
   "outputs": [],
   "source": [
    "# Calcular la presión atmosférica promedio por departamento\n",
    "presion_por_departamento = df_presion.groupby('Departamento')['ValorObservado'].mean()"
   ]
  },
  {
   "cell_type": "code",
   "execution_count": null,
   "metadata": {
    "id": "fczRVgpasMZ2"
   },
   "outputs": [],
   "source": [
    "# Calcular la presión atmosférica promedio por municipio\n",
    "presion_por_municipio = df_presion.groupby(['Departamento', 'Municipio'])['ValorObservado'].mean()"
   ]
  },
  {
   "cell_type": "code",
   "execution_count": null,
   "metadata": {
    "id": "Lk4ndD6LsMZ2",
    "outputId": "656f0d7b-f6b7-42be-a99e-dbb6bda23547"
   },
   "outputs": [
    {
     "name": "stdout",
     "output_type": "stream",
     "text": [
      "La presión atmoférica promedio por departamento es: Departamento\n",
      "AMAZONAS                   996.892486\n",
      "ANTIOQUIA                  804.097238\n",
      "ARAUCA                     853.587690\n",
      "ATLÁNTICO                 1010.137308\n",
      "BOGOTA D.C.                717.361040\n",
      "BOLIVAR                    892.134690\n",
      "BOYACÁ                     746.760796\n",
      "CALDAS                     719.551080\n",
      "CAQUETA                    978.817802\n",
      "CASANARE                   941.273664\n",
      "CAUCA                      897.335417\n",
      "CESAR                      986.497703\n",
      "CHOCÓ                      980.002074\n",
      "CUNDINAMARCA               774.065832\n",
      "CÓRDOBA                   1003.652693\n",
      "HUILA                      858.088031\n",
      "LA GUAJIRA                1003.236024\n",
      "MAGDALENA                  998.682856\n",
      "META                       909.854545\n",
      "NARIÑO                     759.923496\n",
      "NORTE DE SANTANDER         882.804753\n",
      "QUINDÍO                    812.487326\n",
      "RISARALDA                  828.663636\n",
      "SAN ANDRÉS PROVIDENCIA     998.046649\n",
      "SANTANDER                  810.389274\n",
      "SUCRE                      999.993312\n",
      "TOLIMA                     883.189280\n",
      "VALLE DEL CAUCA            912.545612\n",
      "Name: ValorObservado, dtype: float64\n"
     ]
    }
   ],
   "source": [
    "print(f'La presión atmoférica promedio por departamento es: {presion_por_departamento}')"
   ]
  },
  {
   "cell_type": "code",
   "execution_count": null,
   "metadata": {
    "id": "ouiXE-F8sMZ3",
    "outputId": "a1d6bf5e-3b14-4cbd-94b4-bf5503e407ce",
    "scrolled": false
   },
   "outputs": [
    {
     "name": "stdout",
     "output_type": "stream",
     "text": [
      "La presión atmoférica promedio por municipio es: Departamento            Municipio             \n",
      "AMAZONAS                LETICIA                   1000.196346\n",
      "                        PUERTO NARIÑO              996.844611\n",
      "ANTIOQUIA               ITUANGO                    812.226087\n",
      "                        MEDELLÍN                   851.090500\n",
      "                        RETIRO                     749.817361\n",
      "                        RIONEGRO                   789.678231\n",
      "                        SANTUARIO                  788.614931\n",
      "ARAUCA                  ARAUCA                     995.735139\n",
      "                        SARAVENA                   787.667193\n",
      "ATLÁNTICO               BARRANQUILLA              1010.269035\n",
      "                        SOLEDAD                   1007.247059\n",
      "BOGOTA D.C.             BOGOTA, D.C                717.361040\n",
      "BOLIVAR                 ACHÍ                      1006.385650\n",
      "                        ARJONA                    1010.415738\n",
      "                        CARTAGENA DE INDIAS       1007.186656\n",
      "                        EL GUAMO                   609.042742\n",
      "                        SANTA CATALINA            1009.237097\n",
      "                        SANTA ROSA DEL SUR         895.436997\n",
      "BOYACÁ                  AQUITANIA                  716.405347\n",
      "                        BOYACÁ                     691.242803\n",
      "                        CHINAVITA                  799.011307\n",
      "                        CHITA                      716.804545\n",
      "                        CUÍTIVA                    707.713343\n",
      "                        EL ESPINO                  670.849653\n",
      "                        GUAYATÁ                    842.635000\n",
      "                        GUICÁN                     573.880903\n",
      "                        MONGUA                     717.949583\n",
      "                        MOTAVITA                   694.414773\n",
      "                        PAIPA                      747.123936\n",
      "                        PESCA                      733.635606\n",
      "                        PISVA                      854.258402\n",
      "                        QUÍPAMA                    877.762651\n",
      "                        RÁQUIRA                    779.301966\n",
      "                        SAMACÁ                     737.727623\n",
      "                        SIACHOQUE                  733.576316\n",
      "                        SOCOTÁ                     661.830070\n",
      "                        SOGAMOSO                   757.894363\n",
      "                        SOTAQUIRÁ                  742.310517\n",
      "                        VENTAQUEMADA               682.492553\n",
      "                        VILLA DE LEIVA             785.437500\n",
      "CALDAS                  ANSERMA                    801.737153\n",
      "                        MARULANDA                  768.630192\n",
      "                        RIOSUCIO                   788.779861\n",
      "                        SALAMINA                   687.246181\n",
      "                        VILLAMARIA                 622.916409\n",
      "CAQUETA                 EL DONCELLO                978.817802\n",
      "CASANARE                MONTERREY                  918.918210\n",
      "                        PAZ DE ARIPORO             990.123942\n",
      "                        TÁMARA                     899.001597\n",
      "                        YOPAL                      975.331879\n",
      "CAUCA                   CORINTO                    897.335417\n",
      "CESAR                   AGUACHICA                  991.688889\n",
      "                        VALLEDUPAR                 985.339339\n",
      "CHOCÓ                   BAHÍA SOLANO (MUTIS)      1011.751923\n",
      "                        BOJAYÁ (BELLAVISTA)       1010.540860\n",
      "                        CÉRTEGUI                  1005.864276\n",
      "                        QUIBDÓ                    1004.174932\n",
      "                        SAN JOSÉ DEL PALMAR        892.554278\n",
      "CUNDINAMARCA            ANAPOIMA                   924.092169\n",
      "                        BOJACÁ                     740.015663\n",
      "                        CABRERA                    718.339721\n",
      "                        CACHIPAY                   833.838527\n",
      "                        CAPARRAPÍ                  872.988685\n",
      "                        CARMEN DE CARUPA           716.576653\n",
      "                        CHOCONTÁ                   737.929739\n",
      "                        CHÍA                       751.669612\n",
      "                        COGUA                      693.353333\n",
      "                        CUCUNUBÁ                   727.424638\n",
      "                        EL COLEGIO                 798.268741\n",
      "                        FACATATIVÁ                 747.749493\n",
      "                        FUNZA                      751.426801\n",
      "                        FÚQUENE                    752.485955\n",
      "                        GIRARDOT                   976.424306\n",
      "                        GUADUAS                    827.462539\n",
      "                        LA CALERA                  713.481612\n",
      "                        LA VEGA                    872.457790\n",
      "                        LENGUAZAQUE                725.984529\n",
      "                        MACHETÁ                    741.805265\n",
      "                        MEDINA                     951.843644\n",
      "                        MOSQUERA                   753.414236\n",
      "                        PASCA                      761.382883\n",
      "                        PULÍ                       865.532749\n",
      "                        SAN BERNARDO               810.796610\n",
      "                        SILVANIA                   857.095331\n",
      "                        SIMIJACA                   707.474137\n",
      "                        SOACHA                     701.999310\n",
      "                        SOPÓ                       747.113088\n",
      "                        SUBACHOQUE                 703.271955\n",
      "                        TABIO                      748.123512\n",
      "                        TENA                       797.147905\n",
      "                        TOCANCIPÁ                  751.973126\n",
      "                        VIANÍ                      846.001412\n",
      "                        VILLAGÓMEZ                 726.566657\n",
      "                        YACOPÍ                     864.125542\n",
      "                        ZIPAQUIRÁ                  708.523307\n",
      "CÓRDOBA                 AYAPEL                    1005.890523\n",
      "                        MONTERÍA                  1009.111424\n",
      "                        PLANETA RICA               999.778431\n",
      "                        SAHAGÚN                   1000.351246\n",
      "HUILA                   ALGECIRAS                  901.845783\n",
      "                        NÁTAGA                     844.082946\n",
      "                        SAN AGUSTÍN                827.094427\n",
      "LA GUAJIRA              ALBANIA                    999.522819\n",
      "                        RIOHACHA                  1007.901012\n",
      "MAGDALENA               ARIGUANÍ (EL DIFICIL)      993.516469\n",
      "                        EL BANCO                  1005.508449\n",
      "                        PIVIJAI                   1009.350641\n",
      "                        SANTA MARTA                982.484375\n",
      "META                    BARRANCA DE UPÍA           971.879310\n",
      "                        EL CALVARIO                801.829858\n",
      "                        GRANADA                    976.700000\n",
      "                        LEJANÍAS                   939.621875\n",
      "                        PUERTO GAITÁN              991.973315\n",
      "                        VISTAHERMOSA               977.277031\n",
      "NARIÑO                  ALDANA                     714.022589\n",
      "                        BARBACOAS                  877.786420\n",
      "                        TUMACO                     756.819385\n",
      "NORTE DE SANTANDER      ARBOLEDAS                  904.341358\n",
      "                        CÁCHIRA                    802.512229\n",
      "                        CÚCUTA                     976.170199\n",
      "                        TOLEDO                     854.287037\n",
      "QUINDÍO                 PIJAO                      810.730556\n",
      "                        SALENTO                    814.244097\n",
      "RISARALDA               BELÉN DE UMBRÍA            823.165432\n",
      "                        PEREIRA                    866.441997\n",
      "                        PUEBLO RICO                842.694656\n",
      "                        SANTA ROSA DE CABAL        790.315349\n",
      "SAN ANDRÉS PROVIDENCIA  SAN ANDRÉS                 998.046649\n",
      "SANTANDER               BARRANCABERMEJA            998.040606\n",
      "                        BUCARAMANGA                907.409651\n",
      "                        CARCASÍ                    692.723220\n",
      "                        CERRITO                    660.029933\n",
      "                        CHARALÁ                    868.160948\n",
      "                        FLORIDABLANCA              911.458359\n",
      "                        LEBRIJA                    882.626582\n",
      "                        MÁLAGA                     782.718072\n",
      "                        ONZAGA                     758.868063\n",
      "                        PIEDECUESTA                906.351657\n",
      "                        SABANA DE TORRES           992.665663\n",
      "                        SAN VICENTE DE CHUCURÍ     888.390476\n",
      "                        SURATÁ                     814.398575\n",
      "                        TONA                       668.823852\n",
      "                        VETAS                      684.314352\n",
      "SUCRE                   SAN BENITO ABAD           1006.949364\n",
      "                        SAN MARCOS                1006.431878\n",
      "                        SINCELEJO                  989.052017\n",
      "TOLIMA                  CHAPARRAL                  911.681873\n",
      "                        IBAGUÉ                     838.220131\n",
      "                        MELGAR                     973.009722\n",
      "                        PLANADAS                   867.175349\n",
      "VALLE DEL CAUCA         BUENAVENTURA              1006.318885\n",
      "                        BUGA                       904.789583\n",
      "                        CARTAGO                    909.931673\n",
      "                        LA CUMBRE                  836.818750\n",
      "                        PALMIRA                    904.525338\n",
      "                        TULUÁ                      719.676398\n",
      "Name: ValorObservado, dtype: float64\n"
     ]
    }
   ],
   "source": [
    "print(f'La presión atmoférica promedio por municipio es: {presion_por_municipio}')      "
   ]
  },
  {
   "cell_type": "markdown",
   "metadata": {
    "id": "pC1HQly9sMZ3"
   },
   "source": [
    "### 5. ¿Qué meses tienen el valor máximo y mínimo de presión atmosférica?\n",
    "\n",
    "---\n",
    "\n"
   ]
  },
  {
   "cell_type": "code",
   "execution_count": null,
   "metadata": {
    "id": "8L5u-5fesMZ3",
    "outputId": "7e1898cd-7b54-4309-ea37-1018b7c9eb24"
   },
   "outputs": [
    {
     "name": "stdout",
     "output_type": "stream",
     "text": [
      " El mes con mayor valor presión es el 12\n"
     ]
    }
   ],
   "source": [
    "# Para buscar el mes con mayor presión atmoférica\n",
    "mes_maximo = df_presion.loc[df_presion['ValorObservado'].idxmax(), 'Mes']\n",
    "print(f'El mes con mayor valor presión es el {mes_maximo}')"
   ]
  },
  {
   "cell_type": "code",
   "execution_count": null,
   "metadata": {
    "id": "G5nKlSa2sMZ4",
    "outputId": "027a20d2-fb96-4139-bc71-0c6ff157a442"
   },
   "outputs": [
    {
     "name": "stdout",
     "output_type": "stream",
     "text": [
      "El mes con menor valor presión es: 3\n"
     ]
    }
   ],
   "source": [
    "# El mes menor\n",
    "mes_minimo = df_presion.loc[df_presion['ValorObservado'].idxmin(), 'Mes']\n",
    "print(f'El mes con menor valor presión es: {mes_minimo}')"
   ]
  },
  {
   "cell_type": "markdown",
   "metadata": {
    "id": "r_4mt1m3v0q5"
   },
   "source": [
    "### 6. ¿Hay alguna correlación entre la latitud y la presión atmosférica?"
   ]
  },
  {
   "cell_type": "markdown",
   "metadata": {
    "id": "Udn5NvPfwFyu"
   },
   "source": [
    "* Primero, podemos seleccionar las columnas de interés 'Latitud' y 'ValorObservado' \n",
    "\n",
    "* Tener encuenta que, El valor de la correlación puede oscilar entre -1 y 1, donde un valor cercano a 1 indica una correlación positiva fuerte, un valor cercano a -1 indica una correlación negativa fuerte, y un valor cercano a 0 indica la falta de correlación."
   ]
  },
  {
   "cell_type": "code",
   "execution_count": null,
   "metadata": {
    "colab": {
     "base_uri": "https://localhost:8080/"
    },
    "executionInfo": {
     "elapsed": 13,
     "status": "ok",
     "timestamp": 1679949527475,
     "user": {
      "displayName": "Wilson De Caro Puertas",
      "userId": "02042771055684065616"
     },
     "user_tz": 300
    },
    "id": "R8848FqUsMZ4",
    "outputId": "fcab15c3-848f-4a45-88e4-43849a9b46c0"
   },
   "outputs": [
    {
     "name": "stdout",
     "output_type": "stream",
     "text": [
      "La correlacion entre la latitud y la presion es: -0.4965614961336959\n"
     ]
    }
   ],
   "source": [
    "latitud = df_presion['Latitud']\n",
    "presion = df_presion['ValorObservado']\n",
    "\n",
    "correlacion = latitud.corr(presion)\n",
    "print(f'La correlacion entre la latitud y la presion es: {correlacion}')"
   ]
  },
  {
   "cell_type": "code",
   "execution_count": null,
   "metadata": {
    "colab": {
     "base_uri": "https://localhost:8080/",
     "height": 279
    },
    "executionInfo": {
     "elapsed": 827,
     "status": "ok",
     "timestamp": 1679949692768,
     "user": {
      "displayName": "Wilson De Caro Puertas",
      "userId": "02042771055684065616"
     },
     "user_tz": 300
    },
    "id": "bOBHOQiDzOcP",
    "outputId": "a138c50c-f0bd-4e7b-871e-6c110d2ea798"
   },
   "outputs": [
    {
     "data": {
      "image/png": "[encoded data removed]",
      "text/plain": [
       "<Figure size 432x288 with 1 Axes>"
      ]
     },
     "metadata": {
      "needs_background": "light"
     },
     "output_type": "display_data"
    }
   ],
   "source": [
    "# Este gráfico nos permitirá visualizar cualquier patrón o tendencia que pueda existir entre la latitud y la presión atmosférica\n",
    "plt.scatter(latitud, presion)\n",
    "plt.xlabel('Latitud')\n",
    "plt.ylabel('Presión atmosférica')\n",
    "plt.show()"
   ]
  },
  {
   "cell_type": "markdown",
   "metadata": {
    "id": "-sUC20At0ACj"
   },
   "source": [
    "### 7. ¿Hay alguna tendencia en la presión atmosférica a lo largo del tiempo en cada estación?\n"
   ]
  },
  {
   "cell_type": "code",
   "execution_count": null,
   "metadata": {
    "id": "X2fG7Rba32zX"
   },
   "outputs": [],
   "source": [
    "#Sacamos las estaciones\n",
    "estaciones = df_presion['NombreEstacion'].unique()"
   ]
  },
  {
   "cell_type": "code",
   "execution_count": null,
   "metadata": {
    "id": "AW9rnN4b4UDf"
   },
   "outputs": [],
   "source": [
    "#iteraremos sobre cada estación y para cada estación\n",
    "for estacion in estaciones:\n",
    "    df_estacion = df_presion[df_presion['NombreEstacion'] == estacion][['FechaObservacion', 'ValorObservado']]"
   ]
  },
  {
   "cell_type": "code",
   "execution_count": null,
   "metadata": {
    "id": "bydy5Qb54gNk"
   },
   "outputs": [],
   "source": [
    "df_estacion['FechaObservacion'] = pd.to_datetime(df_estacion['FechaObservacion'])"
   ]
  },
  {
   "cell_type": "code",
   "execution_count": null,
   "metadata": {
    "id": "jCbScCzr4-Gl"
   },
   "outputs": [],
   "source": [
    "#Establecermos la columna 'FechaObservacion' como índice del DataFrame\n",
    "df_estacion = df_estacion.set_index('FechaObservacion')"
   ]
  },
  {
   "cell_type": "code",
   "execution_count": null,
   "metadata": {
    "colab": {
     "base_uri": "https://localhost:8080/",
     "height": 301
    },
    "executionInfo": {
     "elapsed": 936,
     "status": "ok",
     "timestamp": 1679951272267,
     "user": {
      "displayName": "Wilson De Caro Puertas",
      "userId": "02042771055684065616"
     },
     "user_tz": 300
    },
    "id": "edC8Titx5A_r",
    "outputId": "25508a0c-32c6-4728-8ba0-ec091feb5338"
   },
   "outputs": [
    {
     "data": {
      "image/png": "[encoded data removed]",
      "text/plain": [
       "<Figure size 432x288 with 1 Axes>"
      ]
     },
     "metadata": {
      "needs_background": "light"
     },
     "output_type": "display_data"
    }
   ],
   "source": [
    "#Gráfico de línea para cada estación que muestra la evolución de la presión atmosférica a lo largo del tiempo. \n",
    "df_estacion.plot(title=estacion)\n",
    "plt.xlabel('Fecha')\n",
    "plt.ylabel('Presión atmosférica')\n",
    "plt.show()"
   ]
  },
  {
   "cell_type": "markdown",
   "metadata": {
    "id": "j3ZDjukH0GKA"
   },
   "source": [
    "### 8. ¿Cuáles son los departamentos y municipios con la mayor variabilidad en la presión\n",
    "atmosférica?\n"
   ]
  },
  {
   "cell_type": "markdown",
   "metadata": {
    "id": "LaPLHDNI0QZ_"
   },
   "source": [
    "*   Agrupar los datos por departamento y municipio\n",
    "*   Calcular la desviación estándar de la columna 'ValorObservado'\n",
    "\n"
   ]
  },
  {
   "cell_type": "code",
   "execution_count": null,
   "metadata": {
    "id": "OeqSafto0KbY"
   },
   "outputs": [],
   "source": [
    "dept_mpio = df_presion.groupby(['Departamento', 'Municipio'])"
   ]
  },
  {
   "cell_type": "code",
   "execution_count": null,
   "metadata": {
    "id": "0PsRjps208FD"
   },
   "outputs": [],
   "source": [
    "sacar_std = dept_mpio['ValorObservado'].std()"
   ]
  },
  {
   "cell_type": "code",
   "execution_count": null,
   "metadata": {
    "id": "b0MjgQQc2EX_"
   },
   "outputs": [],
   "source": [
    "# ordenar la serie de manera descendente \n",
    "ordenar_std = sacar_std.sort_values(ascending=False)\n",
    "print(f'Departamentos y municipios con la mayor variabilidad en la presión atmosférica: {ordenar_std}')"
   ]
  },
  {
   "cell_type": "code",
   "execution_count": null,
   "metadata": {
    "colab": {
     "base_uri": "https://localhost:8080/",
     "height": 363
    },
    "executionInfo": {
     "elapsed": 221,
     "status": "ok",
     "timestamp": 1679950807427,
     "user": {
      "displayName": "Wilson De Caro Puertas",
      "userId": "02042771055684065616"
     },
     "user_tz": 300
    },
    "id": "3Jw1IZVE2-Se",
    "outputId": "ac910622-9336-4c80-d205-dfbc3c94fd4a"
   },
   "outputs": [
    {
     "data": {
      "text/html": [
       "\n",
       "  <div id=\"df-b252e1a4-78a7-4018-8901-98c811f565f0\">\n",
       "    <div class=\"colab-df-container\">\n",
       "      <div>\n",
       "<style scoped>\n",
       "    .dataframe tbody tr th:only-of-type {\n",
       "        vertical-align: middle;\n",
       "    }\n",
       "\n",
       "    .dataframe tbody tr th {\n",
       "        vertical-align: top;\n",
       "    }\n",
       "\n",
       "    .dataframe thead th {\n",
       "        text-align: right;\n",
       "    }\n",
       "</style>\n",
       "<table border=\"1\" class=\"dataframe\">\n",
       "  <thead>\n",
       "    <tr style=\"text-align: right;\">\n",
       "      <th></th>\n",
       "      <th>Departamento</th>\n",
       "      <th>Municipio</th>\n",
       "      <th>ValorObservado</th>\n",
       "    </tr>\n",
       "  </thead>\n",
       "  <tbody>\n",
       "    <tr>\n",
       "      <th>8</th>\n",
       "      <td>ARAUCA</td>\n",
       "      <td>SARAVENA</td>\n",
       "      <td>191.910222</td>\n",
       "    </tr>\n",
       "    <tr>\n",
       "      <th>141</th>\n",
       "      <td>SANTANDER</td>\n",
       "      <td>TONA</td>\n",
       "      <td>89.703924</td>\n",
       "    </tr>\n",
       "    <tr>\n",
       "      <th>147</th>\n",
       "      <td>TOLIMA</td>\n",
       "      <td>IBAGUÉ</td>\n",
       "      <td>60.703594</td>\n",
       "    </tr>\n",
       "    <tr>\n",
       "      <th>51</th>\n",
       "      <td>CESAR</td>\n",
       "      <td>AGUACHICA</td>\n",
       "      <td>60.322473</td>\n",
       "    </tr>\n",
       "    <tr>\n",
       "      <th>11</th>\n",
       "      <td>BOGOTA D.C.</td>\n",
       "      <td>BOGOTA, D.C</td>\n",
       "      <td>27.972235</td>\n",
       "    </tr>\n",
       "    <tr>\n",
       "      <th>94</th>\n",
       "      <td>CUNDINAMARCA</td>\n",
       "      <td>ZIPAQUIRÁ</td>\n",
       "      <td>24.653230</td>\n",
       "    </tr>\n",
       "    <tr>\n",
       "      <th>28</th>\n",
       "      <td>BOYACÁ</td>\n",
       "      <td>PAIPA</td>\n",
       "      <td>15.102315</td>\n",
       "    </tr>\n",
       "    <tr>\n",
       "      <th>80</th>\n",
       "      <td>CUNDINAMARCA</td>\n",
       "      <td>PASCA</td>\n",
       "      <td>9.637105</td>\n",
       "    </tr>\n",
       "    <tr>\n",
       "      <th>127</th>\n",
       "      <td>SAN ANDRÉS PROVIDENCIA</td>\n",
       "      <td>SAN ANDRÉS</td>\n",
       "      <td>9.381259</td>\n",
       "    </tr>\n",
       "    <tr>\n",
       "      <th>81</th>\n",
       "      <td>CUNDINAMARCA</td>\n",
       "      <td>PULÍ</td>\n",
       "      <td>4.812332</td>\n",
       "    </tr>\n",
       "  </tbody>\n",
       "</table>\n",
       "</div>\n",
       "      <button class=\"colab-df-convert\" onclick=\"convertToInteractive('df-b252e1a4-78a7-4018-8901-98c811f565f0')\"\n",
       "              title=\"Convert this dataframe to an interactive table.\"\n",
       "              style=\"display:none;\">\n",
       "        \n",
       "  <svg xmlns=\"http://www.w3.org/2000/svg\" height=\"24px\"viewBox=\"0 0 24 24\"\n",
       "       width=\"24px\">\n",
       "    <path d=\"M0 0h24v24H0V0z\" fill=\"none\"/>\n",
       "    <path d=\"M18.56 5.44l.94 2.06.94-2.06 2.06-.94-2.06-.94-.94-2.06-.94 2.06-2.06.94zm-11 1L8.5 8.5l.94-2.06 2.06-.94-2.06-.94L8.5 2.5l-.94 2.06-2.06.94zm10 10l.94 2.06.94-2.06 2.06-.94-2.06-.94-.94-2.06-.94 2.06-2.06.94z\"/><path d=\"M17.41 7.96l-1.37-1.37c-.4-.4-.92-.59-1.43-.59-.52 0-1.04.2-1.43.59L10.3 9.45l-7.72 7.72c-.78.78-.78 2.05 0 2.83L4 21.41c.39.39.9.59 1.41.59.51 0 1.02-.2 1.41-.59l7.78-7.78 2.81-2.81c.8-.78.8-2.07 0-2.86zM5.41 20L4 18.59l7.72-7.72 1.47 1.35L5.41 20z\"/>\n",
       "  </svg>\n",
       "      </button>\n",
       "      \n",
       "  <style>\n",
       "    .colab-df-container {\n",
       "      display:flex;\n",
       "      flex-wrap:wrap;\n",
       "      gap: 12px;\n",
       "    }\n",
       "\n",
       "    .colab-df-convert {\n",
       "      background-color: #E8F0FE;\n",
       "      border: none;\n",
       "      border-radius: 50%;\n",
       "      cursor: pointer;\n",
       "      display: none;\n",
       "      fill: #1967D2;\n",
       "      height: 32px;\n",
       "      padding: 0 0 0 0;\n",
       "      width: 32px;\n",
       "    }\n",
       "\n",
       "    .colab-df-convert:hover {\n",
       "      background-color: #E2EBFA;\n",
       "      box-shadow: 0px 1px 2px rgba(60, 64, 67, 0.3), 0px 1px 3px 1px rgba(60, 64, 67, 0.15);\n",
       "      fill: #174EA6;\n",
       "    }\n",
       "\n",
       "    [theme=dark] .colab-df-convert {\n",
       "      background-color: #3B4455;\n",
       "      fill: #D2E3FC;\n",
       "    }\n",
       "\n",
       "    [theme=dark] .colab-df-convert:hover {\n",
       "      background-color: #434B5C;\n",
       "      box-shadow: 0px 1px 3px 1px rgba(0, 0, 0, 0.15);\n",
       "      filter: drop-shadow(0px 1px 2px rgba(0, 0, 0, 0.3));\n",
       "      fill: #FFFFFF;\n",
       "    }\n",
       "  </style>\n",
       "\n",
       "      <script>\n",
       "        const buttonEl =\n",
       "          document.querySelector('#df-b252e1a4-78a7-4018-8901-98c811f565f0 button.colab-df-convert');\n",
       "        buttonEl.style.display =\n",
       "          google.colab.kernel.accessAllowed ? 'block' : 'none';\n",
       "\n",
       "        async function convertToInteractive(key) {\n",
       "          const element = document.querySelector('#df-b252e1a4-78a7-4018-8901-98c811f565f0');\n",
       "          const dataTable =\n",
       "            await google.colab.kernel.invokeFunction('convertToInteractive',\n",
       "                                                     [key], {});\n",
       "          if (!dataTable) return;\n",
       "\n",
       "          const docLinkHtml = 'Like what you see? Visit the ' +\n",
       "            '<a target=\"_blank\" href=https://colab.research.google.com/notebooks/data_table.ipynb>data table notebook</a>'\n",
       "            + ' to learn more about interactive tables.';\n",
       "          element.innerHTML = '';\n",
       "          dataTable['output_type'] = 'display_data';\n",
       "          await google.colab.output.renderOutput(dataTable, element);\n",
       "          const docLink = document.createElement('div');\n",
       "          docLink.innerHTML = docLinkHtml;\n",
       "          element.appendChild(docLink);\n",
       "        }\n",
       "      </script>\n",
       "    </div>\n",
       "  </div>\n",
       "  "
      ],
      "text/plain": [
       "               Departamento    Municipio  ValorObservado\n",
       "8                    ARAUCA     SARAVENA      191.910222\n",
       "141               SANTANDER         TONA       89.703924\n",
       "147                  TOLIMA       IBAGUÉ       60.703594\n",
       "51                    CESAR    AGUACHICA       60.322473\n",
       "11              BOGOTA D.C.  BOGOTA, D.C       27.972235\n",
       "94             CUNDINAMARCA    ZIPAQUIRÁ       24.653230\n",
       "28                   BOYACÁ        PAIPA       15.102315\n",
       "80             CUNDINAMARCA        PASCA        9.637105\n",
       "127  SAN ANDRÉS PROVIDENCIA   SAN ANDRÉS        9.381259\n",
       "81             CUNDINAMARCA         PULÍ        4.812332"
      ]
     },
     "execution_count": 22,
     "metadata": {},
     "output_type": "execute_result"
    }
   ],
   "source": [
    "# Aqui estamos transformando la informacion de arriba como un DataFrame para que se vea mas detallado\n",
    "df_std = pd.DataFrame({'ValorObservado':sacar_std})\n",
    "df_std = df_std.reset_index() # Conviritiendo los indeicecs en columnas \n",
    "df_std = df_std[['Departamento', 'Municipio', 'ValorObservado']] # Cogemos las columnas para ordenarlas\n",
    "df_std = df_std.sort_values('ValorObservado', ascending=False)\n",
    "df_std.head(10)"
   ]
  },
  {
   "cell_type": "markdown",
   "metadata": {
    "id": "7MDMCMsH5pVi"
   },
   "source": [
    "# Departamento del Atlántico"
   ]
  },
  {
   "cell_type": "markdown",
   "metadata": {
    "id": "MJ5XzToj5e40"
   },
   "source": [
    "### 1. ¿Cuántas estaciones hay en el departamento del Atlántico y cuáles son sus nombres?"
   ]
  },
  {
   "cell_type": "code",
   "execution_count": 28,
   "metadata": {
    "executionInfo": {
     "elapsed": 240,
     "status": "ok",
     "timestamp": 1680118953337,
     "user": {
      "displayName": "Wilson De Caro Puertas",
      "userId": "02042771055684065616"
     },
     "user_tz": 300
    },
    "id": "TMqI_RHV5jjR"
   },
   "outputs": [],
   "source": [
    "# Filtramos para solo la informacion del Atlántico\n",
    "df_atlantico = df_presion.loc[df_presion['Departamento'] == 'ATLÁNTICO']"
   ]
  },
  {
   "cell_type": "code",
   "execution_count": null,
   "metadata": {
    "colab": {
     "base_uri": "https://localhost:8080/"
    },
    "executionInfo": {
     "elapsed": 452,
     "status": "ok",
     "timestamp": 1680052898520,
     "user": {
      "displayName": "Wilson De Caro Puertas",
      "userId": "02042771055684065616"
     },
     "user_tz": 300
    },
    "id": "OWNLAmYv9ILx",
    "outputId": "eea23aea-c64b-407f-f713-fcddefa8ff86"
   },
   "outputs": [
    {
     "data": {
      "text/plain": [
       "ESCUELA NAVAL BARRANQUILLA  - AUT    746\n",
       "APTO ERNESTO CORTIZOS TX GPRS         34\n",
       "Name: NombreEstacion, dtype: int64"
      ]
     },
     "execution_count": 7,
     "metadata": {},
     "output_type": "execute_result"
    }
   ],
   "source": [
    "df_atlantico['NombreEstacion'].value_counts()"
   ]
  },
  {
   "cell_type": "code",
   "execution_count": null,
   "metadata": {
    "colab": {
     "base_uri": "https://localhost:8080/"
    },
    "executionInfo": {
     "elapsed": 621,
     "status": "ok",
     "timestamp": 1680052872924,
     "user": {
      "displayName": "Wilson De Caro Puertas",
      "userId": "02042771055684065616"
     },
     "user_tz": 300
    },
    "id": "wCrEhTJz8suH",
    "outputId": "f799bb40-891e-45bb-860a-58c205475680"
   },
   "outputs": [
    {
     "name": "stdout",
     "output_type": "stream",
     "text": [
      "El numero de estaciones que hay en el Atlántico son 2\n"
     ]
    }
   ],
   "source": [
    "num_estaciones_atlantico = df_atlantico['NombreEstacion'].nunique()\n",
    "print(f'El numero de estaciones que hay en el Atlántico son {num_estaciones_atlantico}')"
   ]
  },
  {
   "cell_type": "markdown",
   "metadata": {
    "id": "6oUCrwQ78tzO"
   },
   "source": [
    "### 2. ¿Cuál es la presión atmosférica promedio en el departamento del Atlántico? ¿Cómo se compara con la presión atmosférica promedio a nivel nacional?"
   ]
  },
  {
   "cell_type": "markdown",
   "metadata": {
    "id": "9_Kphub3-KM1"
   },
   "source": [
    "\n",
    "\n",
    "* Tener encuenta, que si el valor de diferencia es positivo, significa que la presión atmosférica promedio en el departamento del Atlántico es mayor que la presión atmosférica promedio a nivel nacional. Si es negativo, significa que es menor.\n",
    "\n"
   ]
  },
  {
   "cell_type": "code",
   "execution_count": null,
   "metadata": {
    "id": "HtxHaVO88wuy"
   },
   "outputs": [],
   "source": [
    "# Cogemos filas correspondientes al departamento del Atlántico\n",
    "df_atlantico = df_presion.loc[df_presion['Departamento'] == 'ATLÁNTICO']"
   ]
  },
  {
   "cell_type": "code",
   "execution_count": null,
   "metadata": {
    "id": "1t2voBHg9EdR"
   },
   "outputs": [],
   "source": [
    "# Calcular la media de los valores de presión atmosférica en el departamento del Atlántico\n",
    "media_atlantico = df_atlantico['ValorObservado'].mean()"
   ]
  },
  {
   "cell_type": "code",
   "execution_count": null,
   "metadata": {
    "colab": {
     "base_uri": "https://localhost:8080/"
    },
    "executionInfo": {
     "elapsed": 197,
     "status": "ok",
     "timestamp": 1679952395563,
     "user": {
      "displayName": "Wilson De Caro Puertas",
      "userId": "02042771055684065616"
     },
     "user_tz": 300
    },
    "id": "cX6tcXYs9ctu",
    "outputId": "e69db0fa-1f0d-4d60-c768-ab468c24ff00"
   },
   "outputs": [
    {
     "name": "stdout",
     "output_type": "stream",
     "text": [
      "Presión atmosférica promedio a nivel nacional: 870.4379963627644\n"
     ]
    }
   ],
   "source": [
    "# Calcular la media de todos los valores de presión atmosférica en el conjunto de datos\n",
    "media_nacional = df_presion['ValorObservado'].mean()\n",
    "\n",
    "print(f'Presión atmosférica promedio a nivel nacional: {media_nacional}')"
   ]
  },
  {
   "cell_type": "code",
   "execution_count": null,
   "metadata": {
    "colab": {
     "base_uri": "https://localhost:8080/"
    },
    "executionInfo": {
     "elapsed": 248,
     "status": "ok",
     "timestamp": 1679952453034,
     "user": {
      "displayName": "Wilson De Caro Puertas",
      "userId": "02042771055684065616"
     },
     "user_tz": 300
    },
    "id": "mlrXV6Gu939m",
    "outputId": "a2cf1eed-4079-44a7-b9c2-5a95b0ba82e3"
   },
   "outputs": [
    {
     "name": "stdout",
     "output_type": "stream",
     "text": [
      "Diferencia entre la presión atmosférica promedio en el departamento del Atlántico y a nivel nacional: 139.69931132954343\n"
     ]
    }
   ],
   "source": [
    "# Comparamos \n",
    "diferencia = media_atlantico - media_nacional\n",
    "print(f'Diferencia entre la presión atmosférica promedio en el departamento del Atlántico y a nivel nacional: {diferencia}')"
   ]
  },
  {
   "cell_type": "markdown",
   "metadata": {
    "id": "J_g25Nyf9X5I"
   },
   "source": [
    "### 3. ¿Cuáles son los meses con el valor máximo y mínimo de presión atmosférica en el departamento del Atlántico?\n"
   ]
  },
  {
   "cell_type": "code",
   "execution_count": null,
   "metadata": {
    "colab": {
     "base_uri": "https://localhost:8080/"
    },
    "executionInfo": {
     "elapsed": 19,
     "status": "ok",
     "timestamp": 1680053064146,
     "user": {
      "displayName": "Wilson De Caro Puertas",
      "userId": "02042771055684065616"
     },
     "user_tz": 300
    },
    "id": "UM1ETJrZ9Q4w",
    "outputId": "a7d81163-e5d9-431d-963c-a78c8122938c"
   },
   "outputs": [
    {
     "name": "stdout",
     "output_type": "stream",
     "text": [
      "El mes con mayor valor de presión en el Atlántico es el 12\n"
     ]
    }
   ],
   "source": [
    "# Buscando el mes con maximo resion atmoferica\n",
    "mes_maximo_atl = df_atlantico.loc[df_atlantico['ValorObservado'].idxmax(), 'Mes']\n",
    "print(f'El mes con mayor valor de presión en el Atlántico es el {mes_maximo_atl}')"
   ]
  },
  {
   "cell_type": "code",
   "execution_count": null,
   "metadata": {
    "colab": {
     "base_uri": "https://localhost:8080/"
    },
    "executionInfo": {
     "elapsed": 616,
     "status": "ok",
     "timestamp": 1680053128672,
     "user": {
      "displayName": "Wilson De Caro Puertas",
      "userId": "02042771055684065616"
     },
     "user_tz": 300
    },
    "id": "fjzZ-O2k97oD",
    "outputId": "d28139e8-7bb2-45d9-ad4d-6a03e7a711c8"
   },
   "outputs": [
    {
     "name": "stdout",
     "output_type": "stream",
     "text": [
      "El mes con menor valor de presión en el Atlántico es : 4\n"
     ]
    }
   ],
   "source": [
    "mes_minimo_atl = df_atlantico.loc[df_atlantico['ValorObservado'].idxmin(), 'Mes']\n",
    "print(f'El mes con menor valor de presión en el Atlántico es : {mes_minimo_atl}')"
   ]
  },
  {
   "cell_type": "markdown",
   "metadata": {
    "id": "rNpGMEVWg1Q3"
   },
   "source": [
    "### 4 ¿Hay alguna tendencia en la presión atmosférica a lo largo del tiempo en el departamento del Atlántico? ¿Ha habido algún cambio notable en los últimos años?"
   ]
  },
  {
   "cell_type": "code",
   "execution_count": 25,
   "metadata": {
    "colab": {
     "base_uri": "https://localhost:8080/"
    },
    "executionInfo": {
     "elapsed": 355,
     "status": "ok",
     "timestamp": 1680116832773,
     "user": {
      "displayName": "Wilson De Caro Puertas",
      "userId": "02042771055684065616"
     },
     "user_tz": 300
    },
    "id": "u3UN3ngihFIA",
    "outputId": "5531379d-7ad6-44fa-ff20-468136f86ba0"
   },
   "outputs": [
    {
     "name": "stderr",
     "output_type": "stream",
     "text": [
      "<ipython-input-25-33e8cfc0be78>:2: SettingWithCopyWarning: \n",
      "A value is trying to be set on a copy of a slice from a DataFrame.\n",
      "Try using .loc[row_indexer,col_indexer] = value instead\n",
      "\n",
      "See the caveats in the documentation: https://pandas.pydata.org/pandas-docs/stable/user_guide/indexing.html#returning-a-view-versus-a-copy\n",
      "  df_atlantico.loc[:, 'Fecha'] = pd.to_datetime(df_atlantico['FechaObservacion'], format='%Y-%m-%d %H:%M:%S')\n"
     ]
    }
   ],
   "source": [
    "# df_atlantico[:,'Fecha'] = pd.to_datetime(df_atlantico['FechaObservacion'], format='%Y-%m-%d %H:%M:%S')\n",
    "df_atlantico.loc[:, 'Fecha'] = pd.to_datetime(df_atlantico['FechaObservacion'], format='%Y-%m-%d %H:%M:%S')\n"
   ]
  },
  {
   "cell_type": "code",
   "execution_count": 26,
   "metadata": {
    "executionInfo": {
     "elapsed": 618,
     "status": "ok",
     "timestamp": 1680116838785,
     "user": {
      "displayName": "Wilson De Caro Puertas",
      "userId": "02042771055684065616"
     },
     "user_tz": 300
    },
    "id": "EPB311MEpCIA"
   },
   "outputs": [],
   "source": [
    "df_atlantico_grouped = df_atlantico.groupby(['Año', 'Mes'])['ValorObservado'].mean().reset_index()"
   ]
  },
  {
   "cell_type": "code",
   "execution_count": null,
   "metadata": {
    "id": "fDpDJcAOo8Ag"
   },
   "outputs": [],
   "source": [
    "plt.plot(df_atlantico_grouped['Fecha'], df_atlantico_grouped['ValorObservado'])\n",
    "plt.xlabel('Fecha')\n",
    "plt.ylabel('Presión atmosférica')\n",
    "plt.title('Presión atmosférica promedio en el departamento del Atlántico')\n",
    "plt.show()"
   ]
  },
  {
   "cell_type": "markdown",
   "metadata": {
    "id": "6hTLyFsh5DxJ"
   },
   "source": [
    "### 5. ¿Cuál es la estación con la mayor variabilidad en la presión atmosférica en el departamento del Atlántico? ¿Y la que tiene la menor variabilidad?"
   ]
  },
  {
   "cell_type": "code",
   "execution_count": 30,
   "metadata": {
    "executionInfo": {
     "elapsed": 412,
     "status": "ok",
     "timestamp": 1680119225812,
     "user": {
      "displayName": "Wilson De Caro Puertas",
      "userId": "02042771055684065616"
     },
     "user_tz": 300
    },
    "id": "7PzzmS6y5G-4"
   },
   "outputs": [],
   "source": [
    "# Agrupar los datos por estación y calcular la desviación estándar de la presión atmosférica para cada estación\n",
    "sestacion_atl_std = df_atlantico.groupby('CodigoEstacion')['ValorObservado'].apply(np.std)"
   ]
  },
  {
   "cell_type": "code",
   "execution_count": 32,
   "metadata": {
    "colab": {
     "base_uri": "https://localhost:8080/"
    },
    "executionInfo": {
     "elapsed": 295,
     "status": "ok",
     "timestamp": 1680119460796,
     "user": {
      "displayName": "Wilson De Caro Puertas",
      "userId": "02042771055684065616"
     },
     "user_tz": 300
    },
    "id": "0wjdkWKa6OcJ",
    "outputId": "00707040-aab7-4e60-a059-23eda21fea95"
   },
   "outputs": [
    {
     "name": "stdout",
     "output_type": "stream",
     "text": [
      "La mayor variabilidad en la presión atmosférica en el departamento del Atlántico es: 29004520\n",
      "La menor variabilidad en la presión atmosférica en el departamento del Atlántico es: 29045190\n"
     ]
    }
   ],
   "source": [
    "estacion_max_variabilidad_atl = sestacion_atl_std.idxmax()\n",
    "estacion_min_variabilidad_atl = sestacion_atl_std.idxmin()\n",
    "\n",
    "print(f'La mayor variabilidad en la presión atmosférica en el departamento del Atlántico es: {estacion_max_variabilidad_atl}')\n",
    "print(f'La menor variabilidad en la presión atmosférica en el departamento del Atlántico es: {estacion_min_variabilidad_atl}')"
   ]
  },
  {
   "cell_type": "markdown",
   "metadata": {
    "id": "oPhGNiqbmwCc"
   },
   "source": [
    "### 6. ¿Hay alguna correlación entre la presión atmosférica y la latitud o longitud de las estaciones en el departamento del Atlántico?"
   ]
  },
  {
   "cell_type": "code",
   "execution_count": 12,
   "metadata": {
    "executionInfo": {
     "elapsed": 426,
     "status": "ok",
     "timestamp": 1680114316242,
     "user": {
      "displayName": "Wilson De Caro Puertas",
      "userId": "02042771055684065616"
     },
     "user_tz": 300
    },
    "id": "RCnfl8ePmzhc"
   },
   "outputs": [],
   "source": [
    "latitud_atl = df_atlantico['Latitud']\n",
    "presion_atl = df_atlantico['ValorObservado']\n",
    "\n",
    "correlacion = latitud_atl.corr(presion_atl)"
   ]
  },
  {
   "cell_type": "markdown",
   "metadata": {
    "id": "QqgOE8R655M4"
   },
   "source": [
    "### 8. ¿Cuáles son las estaciones con los valores máximos y mínimos de presión atmosférica en el departamento del Atlántico? ¿Cuánto difieren estos valores de la media del departamento?"
   ]
  },
  {
   "cell_type": "code",
   "execution_count": null,
   "metadata": {
    "id": "XLCIVp8i6qDx"
   },
   "outputs": [],
   "source": [
    "estacion_max = df_atlantico.loc[df_atlantico['ValorObservado'].idxmax(), 'NombreEstacion']\n",
    "valor_max = df_atlantico['ValorObservado'].max()"
   ]
  },
  {
   "cell_type": "code",
   "execution_count": null,
   "metadata": {
    "id": "ZqMIkXdJ61CT"
   },
   "outputs": [],
   "source": [
    "# Buscamos la estación con el valor mínimo de presión atmosférica\n",
    "estacion_min = df_atlantico.loc[df_atlantico['ValorObservado'].idxmin(), 'NombreEstacion']\n",
    "valor_min = df_atlantico['ValorObservado'].min()"
   ]
  },
  {
   "cell_type": "code",
   "execution_count": null,
   "metadata": {
    "colab": {
     "base_uri": "https://localhost:8080/"
    },
    "executionInfo": {
     "elapsed": 8,
     "status": "ok",
     "timestamp": 1679952180625,
     "user": {
      "displayName": "Wilson De Caro Puertas",
      "userId": "02042771055684065616"
     },
     "user_tz": 300
    },
    "id": "kTVMm5BU7Tkz",
    "outputId": "99d9082c-da29-4879-d0c2-03502a3522d4"
   },
   "outputs": [
    {
     "name": "stdout",
     "output_type": "stream",
     "text": [
      "Estación con el valor máximo de presión atmosférica en el departamento del Atlántico: ESCUELA NAVAL BARRANQUILLA  - AUT, Con un valor de 1015.8\n",
      "Estación con el valor mínimo de presión atmosférica en el departamento del Atlántico: APTO ERNESTO CORTIZOS TX GPRS, con un valor de 1005.0\n"
     ]
    }
   ],
   "source": [
    "print(f'Estación con el valor máximo de presión atmosférica en el departamento del Atlántico: {estacion_max}, Con un valor de {valor_max}')\n",
    "print(f'Estación con el valor mínimo de presión atmosférica en el departamento del Atlántico: {estacion_min}, con un valor de {valor_min}')"
   ]
  },
  {
   "cell_type": "code",
   "execution_count": null,
   "metadata": {
    "id": "Ja7t6_5V8H5c"
   },
   "outputs": [],
   "source": [
    "# calcular la diferencia entre los valores máximo y mínimo y la media\n",
    "media_atlantico = df_atlantico['ValorObservado'].mean()\n",
    "diferencia_max = valor_max - media_atlantico\n",
    "diferencia_min = media_atlantico - valor_min"
   ]
  },
  {
   "cell_type": "code",
   "execution_count": null,
   "metadata": {
    "colab": {
     "base_uri": "https://localhost:8080/"
    },
    "executionInfo": {
     "elapsed": 6,
     "status": "ok",
     "timestamp": 1679952183923,
     "user": {
      "displayName": "Wilson De Caro Puertas",
      "userId": "02042771055684065616"
     },
     "user_tz": 300
    },
    "id": "BYCzndFQ8WZs",
    "outputId": "ebb88ab8-5583-4f63-d467-455c6a8e0f5e"
   },
   "outputs": [
    {
     "name": "stdout",
     "output_type": "stream",
     "text": [
      "Diferencia entre el valor máximo y la media del departamento del Atlántico: 5.6626923076921685\n",
      "Diferencia entre el valor mínimo y la media del departamento del Atlántico: 5.137307692307786\n"
     ]
    }
   ],
   "source": [
    "print(f'Diferencia entre el valor máximo y la media del departamento del Atlántico: {diferencia_max}')\n",
    "print(f'Diferencia entre el valor mínimo y la media del departamento del Atlántico: {diferencia_min}')"
   ]
  }
 ],
 "metadata": {
  "colab": {
   "provenance": []
  },
  "kernelspec": {
   "display_name": "Python 3 (ipykernel)",
   "language": "python",
   "name": "python3"
  },
  "language_info": {
   "codemirror_mode": {
    "name": "ipython",
    "version": 3
   },
   "file_extension": ".py",
   "mimetype": "text/x-python",
   "name": "python",
   "nbconvert_exporter": "python",
   "pygments_lexer": "ipython3",
   "version": "3.9.12"
  }
 },
 "nbformat": 4,
 "nbformat_minor": 1
}
